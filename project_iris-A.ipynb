{
 "cells": [
  {
   "cell_type": "code",
   "execution_count": 1,
   "metadata": {},
   "outputs": [],
   "source": [
    "# first importing the following libraries\n",
    "import numpy as np \n",
    "import pandas as pd  \n",
    "import matplotlib.pyplot as plt \n",
    "import seaborn as sns\n"
   ]
  },
  {
   "cell_type": "markdown",
   "metadata": {},
   "source": [
    "### Project 2019 for Programming and Scripting Module"
   ]
  },
  {
   "cell_type": "markdown",
   "metadata": {},
   "source": [
    "## Introduction to this project."
   ]
  },
  {
   "cell_type": "markdown",
   "metadata": {},
   "source": [
    "This repository contains my submission for the class project for the Programming and Scripting Module at GMIT as part of the Higher Diploma in Computing and Data Analytics.   \n",
    "The pdf file containing the problem set instructions is available by clicking on the following link.  [Programming and Scripting Project 2019](https://github.com/ianmcloughlin/project-pands/raw/master/project.pdf)  \n",
    "\n",
    "The project concerns the well-known Fisher's Iris data set. \n",
    "It entails researching the data set, and then writing documentation and code in the Python programming language based on that research.\n",
    "\n",
    "The first part of this document provides some background information on the Fisher Iris data set.  \n",
    "The next part outlines the tools used in preparing and executing this project.  \n",
    "I then analyse the data set using the python programming language.\n",
    "The first part of my analysis looks at an overview of the Fisher Iris data set including some summary statistics that describe the data at a high level and some basic plots that provide an overall picture of the Fisher Iris data set. \n",
    "The next part of the analysis looks more closely at analysing the data set. "
   ]
  },
  {
   "cell_type": "markdown",
   "metadata": {},
   "source": [
    "## Problem Statement <a name=\"problem-statement\"></a>\n",
    "The project should achieve the following goals:\n",
    "\n",
    "1. Research background information about the data set and summarise it.    \n",
    "2. Provide a list of references used in completing the project.  \n",
    "3. Download the data set using Python code.\n",
    "4. Investigate the data set using python code  \n",
    "5. Summarise the data set using python. Provide summary statistics.  \n",
    "5. Summarise the investigations.\n",
    "6. Include supporting tables and graphics.\n",
    "\n",
    "#### My project plan\n",
    "\n",
    "I will use a Task List as described on the GitHub Flavoured Markdown Syntax cheatsheet.\n",
    "\n",
    "Project Task List\n",
    "\n",
    "\n",
    "- [ ] Research Background information about the Iris data set\n",
    "- [ ] List all the references used \n",
    "- [x] Download the Iris data set  \n",
    "- [ ] Investigate the Iris data set using python code\n",
    "- [ ] Summarise the Iris data set - provide statistics such as means, minimum and maximum values\n",
    "- [ ] Include tables and graphics\n",
    "- [ ] Clearly document how to run the code used to investigate the Iris data set  \n",
    "- [ ] Clearly document what the python code used actually does\n",
    "- [ ] Look at examples of interesting analyses pursued by other people on the Iris data set \n",
    "- [ ] Refer to task list as a guideline\n",
    "- [ ] Use headings as links, maybe create a table of contents\n",
    "- [ ] keep the jupyter notebook in line with the python script and readme document.\n",
    "- [x] get links to images working\n",
    "- [ ] The project should be well organised and contain detailed explanations\n",
    "- [ ] The analysis will be well conceived and and examples of interesting analyses that others have pursued based on the data set will be discussed.\n",
    "\n",
    "## Table of Contents\n",
    "\n",
    "1. Introduction and problem statement\n",
    "2. [Background information about the Iris data set](#background) \n",
    "3. [python libraries](#pythonlibraries)\n",
    "4. [Download the Iris data set using python code](#loading)\n",
    "5. [Exploring the data set](#exploring)\n",
    "6. [Summarise the data set](#summarise)\n",
    "7. [conclusions](#conclusions)\n",
    "8. [Terms uses](terms.md)\n",
    "10. [References](#references)\n"
   ]
  },
  {
   "cell_type": "markdown",
   "metadata": {},
   "source": [
    "### <a name=\"background\"></a> Background Information about the Iris Data Set\n"
   ]
  },
  {
   "cell_type": "markdown",
   "metadata": {},
   "source": [
    "#### Background Information about the Iris Data Set\n",
    "\n",
    "Fisher's Iris data set is a famous database consisting of the measurements of parts of 150 iris flowers. It is available from the UCI Machine Learning Repository where it is listed as a multivariate data set with a default machine learning task of classification. The data set consists of 150 instances with 5 attributes. The data set was donated in 1988 by Michael Marshall but the data set was created by R.A. Fisher in 1936. \n",
    "http://archive.ics.uci.edu/ml/datasets/Iris.\n",
    "\n",
    "The data set includes 50 plants each of three classes of iris plant, where each class is a different type or species of iris plant.\n",
    "The three classes are Iris Setosa, Iris Versicolor and Iris Virginica. \n",
    "Four flower measurements are given for each observation in the data set, which are the lengths and widths of the petals and the sepals of the flowers in the sample.\n"
   ]
  },
  {
   "cell_type": "markdown",
   "metadata": {},
   "source": [
    "Fisher's Iris data set is a famous database consisting of the measurements of parts of 150 iris flowers. It is available from the UCI Machine Learning Repository where it is listed as a multivariate data set with a default machine learning task of classification. The data set consists of 150 instances with 5 attributes. The data set was donated in 1988 by Michael Marshall but the data set was created by R.A. Fisher in 1936. \n",
    "http://archive.ics.uci.edu/ml/datasets/Iris.\n",
    "\n",
    "The data set includes 50 plants each of three classes of iris plant, where each class is a different type or species of iris plant.\n",
    "The three classes are Iris Setosa, Iris Versicolor and Iris Virginica. \n",
    "Four flower measurements are given for each observation in the data set, which are the lengths and widths of the petals and the sepals of the flowers in the sample.\n",
    "\n",
    "\n",
    " Iris Setosa,   Iris Versicolor and Iris Virginica\n",
    "<p float=\"left\">\n",
    "  <img src=\"images/iris_setosa.png\" height=\"200\" alt=\"iris setosa\" />\n",
    "  <img src=\"images/iris_versicolor.png\" height=\"200\" alt = \"versicolor\" />\n",
    "  <img src=\"images/iris_virginica.png\" height=\"200\" alt =\"iris virginica\" /> \n",
    "</p>\n",
    "\n",
    "See [iris_flower_description](iris flowers description.md) for more details.\n",
    "\n",
    "According to the [UCI Iris Data Set Information](https://archive.ics.uci.edu/ml/datasets/iris), Fisher's iris dataset is possibly the best known database to be found in the pattern recognition literature and is still relevant today. One class is linearly separable from the other two classes, which are not linearly separable from each other. The predicted attribute of the data set is the class of iris plant to which each observation belongs. \n",
    "\n",
    ">This is perhaps the best known database to be found in the pattern recognition literature. Fisher's paper is a classic in the field and is referenced frequently to this day. \n",
    "\n",
    "Now a little bit about Fisher:\n",
    "\n",
    "According to a wiki on wikipedia about him, [Ronald Fisher](https://en.wikipedia.org/wiki/Ronald_Fisher),\n",
    ">Sir Ronald Aylmer Fisher FRS[3] (17 February 1890 – 29 July 1962) was a British statistician and geneticist. For his work in statistics, he has been described as \"a genius who almost single-handedly created the foundations for modern statistical science\"[4] and \"the single most important figure in 20th century statistics\".\n",
    "\n",
    "Fisher also developed the ANOVA method (Analysis of Variance) which he used to analyse data from crop experiments. He also developed the Fisher Distribution. Fisher pioneered the principles of the design of experiments and the statistics of small samples and the analysis of real data.\n",
    "\n",
    "In 1936 Fisher introduced the Iris flower data set as an example of discriminant analysis. Linear discriminant analysis (LDA) is a generalization of Fisher's linear discriminant, a method used in statistics, pattern recognition and machine learning to find a linear combination of features that characterizes or separates two or more classes of objects or events. The resulting combination may be used as a linear classifier.\n",
    "\n",
    "Based on the combination of the four measurement features of the sample of plants in the iris datas set, Fisher developed a linear discriminant model to distinguish the species from each other.\n",
    "\n",
    "[Wikipedia - Iris Flower Data Set](https://en.wikipedia.org/wiki/Iris_flower_data_set)\n",
    ">Four features were measured from each sample: the length and the width of the sepals and petals, in centimeters. Based on the combination of these four features, Fisher developed a linear discriminant model to distinguish the species from each other.\n",
    "\n",
    "According to Fisher's paper, [The Use of Multiple Measurements in Taxonomic Problems by R.A Fisher](https://onlinelibrary.wiley.com/doi/pdf/10.1111/j.1469-1809.1936.tb02137.x):\n",
    ">When two or more populations have been measured in several characters, xl, ...,x8, special interest attaches to certain linear functions of the measurements by which the populations are best discriminated.\n",
    "\n",
    "His paper then applies the principle of the linear discriminant model to the sample of iris flowers to see how it could be used to discriminate or distinguish the species of iris plant. \n",
    "\n",
    "The two species Iris Setosa and Iris Versicolor were found growing together in the same colony. The sample of the third species - the Iris Virginica differs from the other two samples as they were not taken from the same natural colony. \n",
    "\n",
    "As well as other statistical analyses that are beyond the scope of this project, Fisher considered the question of what linear function of the four measurements would maximise the ratio of the difference  between the specific means to the standard deviation between species.\n",
    "\n"
   ]
  },
  {
   "cell_type": "markdown",
   "metadata": {},
   "source": [
    "## How to run the python code\n",
    "\n",
    "The purpose of this project is to investigate the Fisher Iris data set described above using python code.\n",
    "Python is a high level interpreted general purpose programming language. The python interpreter and its extensive standard library are freely available to all. Along with the python standard library, there are many libraries that enhance the usage of python and make it a powerful tool for performing data analytics and machine learning.\n",
    "Make sure you have Python 3 installed. If not go to https://www.python.org/downloads/ and follow the instructions.\n",
    "\n",
    "To run the python script, first navigate to the folder downloaded from this repository.\n",
    "\n",
    "At the command line enter python <program_name> for example: $ python project_iris.py\n",
    "\n",
    "The python program can also be run inside the environment of an iPython session using the `%run` command.\n",
    " `% run project_iris.py`"
   ]
  },
  {
   "cell_type": "markdown",
   "metadata": {},
   "source": [
    "### Loading python libraries\n",
    "\n",
    "The `pandas` library is the main python library being used in this project. According to the [pandas package overview ](https://pandas.pydata.org/pandas-docs/stable/getting_started/overview.html)  \n",
    "\n",
    "> `pandas` is a `Python` package providing fast, flexible, and expressive data structures designed to make working with “relational” or “labeled” data both easy and intuitive. It aims to be the fundamental high-level building block for doing practical, real world data analysis in Python. \n",
    "\n",
    "In addition to `pandas`, the `seaborn` library is also used for plotting which requires `matplotlib.pyplot` for some functions.\n",
    "\n",
    "[seaborn.pydata.org](https://seaborn.pydata.org/index.html)\n",
    ">Seaborn is a Python data visualization library based on matplotlib. It provides a high-level interface for drawing attractive and informative statistical graphics\n",
    "\n",
    "[matplotlib.org](https://matplotlib.org)\n",
    ">Matplotlib is a Python 2D plotting library which produces publication quality figures in a variety of hardcopy formats and interactive environments across platforms\n",
    "\n",
    "The pandas library is imported in the script using `import pandas as pd`. Therefore wherever `pd` is used in the script, it is referring to the pandas library. Similarly, the `seaborn` library is imported as `sn` and thereafter referred to using `sn` \n",
    "\n",
    "Help can be obtained using the python help function\n",
    "For example `help(pd)` or `help(pd.DataFrame.describe)`"
   ]
  },
  {
   "cell_type": "code",
   "execution_count": 4,
   "metadata": {},
   "outputs": [],
   "source": [
    "# first importing the following libraries\n",
    "import numpy as np \n",
    "import pandas as pd  \n",
    "import matplotlib.pyplot as plt \n",
    "import seaborn as sns"
   ]
  },
  {
   "cell_type": "markdown",
   "metadata": {},
   "source": [
    "### Getting help in python\n",
    "To get help on any python command, I can use the python help function as outlined in the [Python help command document](https://docs.python.org/3/library/pdb.html?highlight=help#pdbcommand-help) with the command in parentheses.  \n",
    "For example, `help(pd)` will show help on the python `pandas` package while `help(pd.DataFrame.describe())` provides help on the `describe` function of the pandas DataFrame.    \n",
    "The documentation pages for each of the python packages used in this project provided details of all the commands for that package.\n",
    " \n",
    "-[Pandas.pydata documentation](https://pandas.pydata.org/pandas-docs/stable/getting_started/index.html)  \n",
    "-[Matplotlib documentation](https://matplotlib.org/index.html)  \n",
    "-[Seaborn.pydata documentaion](https://seaborn.pydata.org/index.html)  \n",
    "-[Python 3 documentation](https://docs.python.org/3/index.html)  \n"
   ]
  },
  {
   "cell_type": "markdown",
   "metadata": {},
   "source": [
    "<a name=\"section\"></a>"
   ]
  },
  {
   "cell_type": "markdown",
   "metadata": {},
   "source": [
    "<a name=\"loading\"></a>\n",
    "### LOADING THE IRIS DATA SET\n",
    "Next read in the Iris data set that is available at the UCI Machine Learning Repository.\n",
    "The data is available in a csv format. \n",
    "\n",
    "The Iris Data Set is available from the UCI Machine Learning Repository. According to the Data Set listing, it is a multivariate data set and the default machine learning task is classification. The attribute types are real numbers. It has 150 instances with 5 attributes. The data set was donated in 1988 by Michael Marshall but the data set was created by R.A. Fisher.\n",
    "http://archive.ics.uci.edu/ml/datasets/Iris\n",
    "\n",
    "https://archive.ics.uci.edu/ml/machine-learning-databases/iris/\n",
    "https://archive.ics.uci.edu/ml/machine-learning-databases/iris/iris.data\n",
    "\n",
    "The actual data set itself at the UCI Machine Learning repository does not have the attribute information included in the csv file. However this information can be found under the section [Iris Data Set: Attribute Information](https://archive.ics.uci.edu/ml/machine-learning-databases/iris/iris.names)\n",
    "\n",
    " Attribute Information:\n",
    "   1. sepal length in cm\n",
    "   2. sepal width in cm\n",
    "   3. petal length in cm\n",
    "   4. petal width in cm\n",
    "   5. class: \n",
    "      -- Iris Setosa\n",
    "      -- Iris Versicolour\n",
    "      -- Iris Virginica\n",
    "      \n",
    "      \n",
    "The python `pandas` library is designed for working with tabular or heteogenous data, i.e. data that is in a tabular format containing an ordered collection of columns and each column can have a different value type.  Python `pandas` is therefore ideal for exploring a dataset such as Iris which has 4 numerical columns and 1 string column. \n",
    "\n",
    "`pandas` has several functions for reading tabular data as a `DataFrame` object. \n",
    "`read_csv` loads delimited data from a file, URL or file-like object using a comma as the default delimiter.\n",
    "\n",
    "The Iris data set can be read in directly from the url or alternatively it can be saved locally and read in from there. I haved saved it into this project's repository for convenience.\n",
    "\n",
    "`pandas.read_csv` performs type inference because the column data types are not part of the data format. Therefore you do not need to specify the data format of each column.\n",
    "\n",
    "A `DataFrame` represents a rectangular table of data containing an ordered collection of columns and each column can have a different value type.\n",
    "A `DataFrame` has both a row and a column index.\n",
    "When the data is imported into python using `pandas.read_csv` function, an index is added to the DataFrame by default. This is a range of numbers from 0 to 150 with the last observation being at index 149.\n"
   ]
  },
  {
   "cell_type": "code",
   "execution_count": 5,
   "metadata": {},
   "outputs": [],
   "source": [
    "# to get help on the pandas package (imported as pd)\n",
    "# help(pd)\n",
    "# help(pd.DataFrame)\n",
    "# help(pd.DataFrame.describe)"
   ]
  },
  {
   "cell_type": "markdown",
   "metadata": {},
   "source": [
    "## 3. Download the dataset and investigate it using Python code"
   ]
  },
  {
   "cell_type": "markdown",
   "metadata": {},
   "source": [
    "<a name=\"loading\"></a>\n",
    "The Iris Data Set is available from the UC Irvine Machine Learning Repository at http://archive.ics.uci.edu/ml/datasets/Iris in csv format.\n",
    "\n",
    "According to [pandas.pydata.org](https://pandas.pydata.org/index.html),the python `pandas` open source library provides high-performance, easy-to-use data structures and data analysis tools for the Python programming language. `pandas` is designed for working with data that is in a tabular format containing an ordered collection of columns where each column can have a different value type.  This makes it ideal for exploring a structured tabular dataset such as Iris which contains several numerical columns and one categorical column. \n",
    "\n",
    "Using `pandas`, tabular data can be imported as a `DataFrame` object. According to the [pandas docs - DataFrame](http://pandas.pydata.org/pandas-docs/stable/reference/api/pandas.DataFrame.html#pandas.DataFrame)\n",
    ">A `DataFrame` is a two-dimensional size-mutable, potentially heterogeneous tabular data structure with labeled axes (rows and columns). Arithmetic operations align on both row and column labels. \n",
    "A pandas `DataFrame` represents a rectangular table of data containing an ordered collection of columns and each column can have a different value type.\n",
    "\n",
    "The pandas `read_csv`function loads delimited data from a file, URL or file-like object using a comma as the default delimiter and  creates a DataFrame. When a pandas `DataFrame`  object is created, it has many attributes and methods available that can be used on that object.\n",
    "\n",
    "The Iris data set can be read in directly from the url at [https://archive.ics.uci.edu/ml/machine-learning-databases/iris/iris.data] (https://archive.ics.uci.edu/ml/machine-learning-databases/iris/iris.data)or alternatively it can be saved locally and read in by specifiying the file path.   \n",
    "In the script, I will download the csv file into python as part of the script. (I haved also saved the csv file containing the Iris data set into this project's repository for convenience). \n",
    "\n",
    "The csv file can be inspected on the command line using the `cat` command which prints the raw contents of the file to the screen or the `head` command  which prints just the first 10 rows to the screen. The file has 4 numerical columns and 1 descriptive string column. \n",
    "The data set itself at the UCI Machine Learning repository does not have the attribute information included in the csv file. However this information can be found under the section [Iris Data Set: Attribute Information](https://archive.ics.uci.edu/ml/machine-learning-databases/iris/iris.names)\n",
    "\n",
    " Attribute Information:\n",
    "   1. sepal length in cm\n",
    "   2. sepal width in cm\n",
    "   3. petal length in cm\n",
    "   4. petal width in cm\n",
    "   5. class: \n",
    "      - Iris Setosa  \n",
    "      - Iris Versicolor  \n",
    "      - Iris Virginica  \n",
    "\n",
    "The `pandas.read_csv` function performs type inference. The data types for each column will be inferred by the `read_csv` function. \n",
    "A `DataFrame` has both a row and a column index.  When csv data is imported into python using `pandas.read_csv`, an index is added to the `DataFrame` by default if none is provided. This is a range of numbers beginning at 0 for the first observation.\n",
    "\n",
    "The raw csv file does not contain any headers. Column names can be added to the DataFrame.   \n",
    "\n",
    "The `pandas` library must first be imported before it can be used as it not part of the Python standard library. \n",
    "At the beginning of the script, I import the `pandas` library using `import pandas as pd`, along with any other libraries to be used in this project.\n",
    "This imports the `pandas` library and allow all of its functions to be used by the script.\n",
    "\n",
    "My code for reading in the data set does the following:\n",
    "\n",
    "1. Create `csv_url` and pass to it the url where the data set is available 'https://archive.ics.uci.edu/ml/machine-learning-databases/iris/iris.data'. \n",
    "2. Create a list of column names `col_names` using the iris attribute information. \n",
    "3. Create a panda's DataFrame object called `iris`.\n",
    "There are other parameters which can be set for the `read_csv` function and these can be found using `?pd.read_csv`. "
   ]
  },
  {
   "cell_type": "markdown",
   "metadata": {},
   "source": [
    "```python\n",
    "      csv_url = 'https://archive.ics.uci.edu/ml/machine-learning-databases/iris/iris.data'\n",
    "      # using the attribute information as the column names\n",
    "      col_names = ['Sepal_Length','Sepal_Width','Petal_Length','Petal_Width','Class']\n",
    "      iris =  pd.read_csv(csv_url, names = col_names)\n",
    "```\n",
    "\n",
    "Having loaded the iris data set, the resulting `iris` DataFrame can be viewed using the DataFrame methods `head` and `tail` to see the first rows and the last rows respectively. "
   ]
  },
  {
   "cell_type": "code",
   "execution_count": 7,
   "metadata": {},
   "outputs": [],
   "source": [
    "# READING IN THE IRIS DATA SET\n",
    "\n",
    "# save url to data and reference the link \n",
    "csv_url = 'https://archive.ics.uci.edu/ml/machine-learning-databases/iris/iris.data'\n",
    "\n",
    "# As the data does not have any column names, specify header = None to avoid reading the first row of data as a header or column name\n",
    "\n",
    "#iris_data = pd.read_csv(csv_url, header = None)\n",
    "\n",
    "# I have also saved the csv file to the folder or repository and can read it in from there in case for some reason the url is not available.\n",
    "#iris = pd.read_csv('iris_data.csv', header =  None)\n",
    "\n",
    "# using the attribute information as the column names\n",
    "col_names = ['Sepal_Length','Sepal_Width','Petal_Length','Petal_Width','Class']\n",
    "\n",
    "iris =  pd.read_csv(csv_url, names = col_names)\n"
   ]
  },
  {
   "cell_type": "markdown",
   "metadata": {},
   "source": [
    "## Exploring the dataset - summary results\n",
    "\n",
    "The first part of my analysis looks at an overview of the Fisher Iris data set including some summary statistics that describe the data at a high level and some basic plots that provide an overall picture of the Fisher Iris data set. \n",
    "\n",
    "According to the Iris data set information on the UCI Machine Learning Repository where the data set is stored, Fishers Iris data set is well known in the pattern recognition literature because one of the three Iris species or classes in the data set is linearly separable from the other two classes while the other two species of iris plant are not linearly separabel from each other. \n",
    "Therefore, after doing a summary overview of the data set as a whole, I will look at the data as the iris species / class level.\n",
    "\n",
    "The `pandas` library has many functions that can be used to explore the Iris data set. Having imported the iris data set from a csv file into a pandas `DataFrame`, all the attributes and methods of `DataFrame` objects can be used on the iris DataFrame object."
   ]
  },
  {
   "cell_type": "markdown",
   "metadata": {},
   "source": [
    "##### Attributes of the iris DataFrame \n",
    "I looked at the attributes of the `iris` DataFrame in the section # EXPLORING & INVESTIGATING THE IRIS DATA SET of the project_iris.py python script.   \n",
    "\n",
    "In summary:  \n",
    "- The iris DataFrame has two dimensions.   (`ndim`)\n",
    "- It consists of 150 rows and 5 columns corresponding to the 150 rows of observations in the csv data and the five columns of data.(`shape`) \n",
    "- The columns on the dataset contain the column names that were specified when reading in the csv file. (`columns`)\n",
    "'Sepal_Length', 'Sepal_Width', 'Petal_Length', 'Petal_Width','Species'. (If the csv data set had contained a row of column names at the top of the file, then this could have been used to set the column names.)  \n",
    "- There are 750 elements in total in the iris dataframe.  (`size`)\n",
    "- The dataframe is assigned a range index by default on reading in the data set. This index starts at 0 for the first row of observations and goes up to 149 for the last row of observations. The index can be changed if desired.   (`index`)\n",
    "- The datatypes of the numeric measurement columns are floats.   (`dtypes`)\n",
    "\n",
    "##### Using `DataFrame` methods to explore the iris data set.\n",
    "\n",
    "Table 1 from Fisher's paper `The Use of Multiple Measurements in Taxonomic Problems` shows the four measurement for each of the three Iris Species. \n",
    "- Sepal length\n",
    "- Sepal width\n",
    "- Petal length\n",
    "- Petal Width  \n",
    "<img src=\"images/IrisTable1.png\" width=\"400\" alt=\"Fisher Table I\">  \n",
    "\n",
    "The equivalent data is shown in the iris DataFrame resulting from reading in the csv file, although the layout is slightly different.\n",
    "The `head` and `tail` methods are useful to take a quick look at the observations at the top and bottom rows of the dataframe. The number of rows to display can be specified as an argument. The rows at the top belong to the setosa class. The rows at the bottom belong to the virginica class. This is just the way the observations are ordered in the csv data set. \n",
    "\n",
    "##### The top of the iris data set:\n",
    "<img src=\"images/iris_head.png\" height=\"200\" alt=\"iris-head\" />\n",
    "\n",
    "#### The bottom of the iris data set:\n",
    "<img src=\"images/iris_tail.png\" height=\"200\" alt=\"iris-tail\" />\n",
    "\n",
    "- `pandas` objects have a set of common mathematical and statistical methods. Most of these methods produce a single value such as the mean or the max or standard deviation.  Multiple summary statistics can be obtained in one go using pandas.descibe().\n",
    "\n",
    "- Using the `describe` method to produce some quick summary statistics produces the following table. These statistics are for the data set as a whole. (Later I look at the descriptive statistics by class or species of iris plant).\n",
    "\n",
    "The pandas `describe` function shows the count number of the non-NA/null observations in the dataset. There are 50 observations in each class. The `max` shows the maximum of the values and the `min` shows the minimum of the values. \n",
    "The `mean` shows the mean or average  of the values (the sum of data values divided by total number of values), the `std` shows the standard deviation (a measure of the dispersion or spread of the data) of the observations. The `describe` function also shows the 25th, 50th and 75th percentiles. The 25th percentile shows the percentage of values falling below that percentile. The 50th percentile shows the same information as the median would, that is where 50% of the values fall above and 50% fall below the value.\n",
    "\n",
    "- The various statistics that are generated from the `describe` function can also be obtained on their own. For example the mean could be obtained using `iris.mean()`, minimum with `.min()` etc.\n",
    "\n",
    "<img src=\"images/iris_describe.png\" width=\"600\" alt=\"iris-describe\" />\n",
    "\n",
    "- The initial exploration of the Iris DataFrame shows that there are 150 rows and 5 columns of data. \n",
    "Each row corresponds to an individual observation of an iris plant. \n",
    "- The columns show the individual measurements (in centimetres) of the length of the sepal, the length of the petal, the width of the sepal and the width of the petal.\n",
    "\n",
    "- The mean of the Sepal length is greater than the mean of the other three measurements.   \n",
    "- The measurements of the petal width has the lowest average measurements.   \n",
    "- The standard deviation in the petal lengths shows the highest variability of the four measurements at 1.76 while the standard deviations of the petal width is approx 0.43.  \n",
    "\n",
    "- The shortest petal in the data set is 1 cm while the longest petal is 6.9 cm.  \n",
    "- The widths of the petals vary from 0.1 cm to 2.5 cm.  \n",
    "- The shortest sepal in the data set is 4.3 cm while the longest sepal is 7.9 cm. The narrowest sepal is 2cm while the widest sepal is 4.4 centimetres.  \n",
    "\n",
    "\n",
    "The data can be checked for any missing values. By default, the descriptive statistics on `pandas` objects exclude missing value.  \n",
    "The Fisher Iris data set is a small data set and it does not have any missing values.\n",
    "`pandas.isnull` can be used to check for missing data. It returns a True or False boolean value for each observation. Boolean values are coerced to a 1 for True and 0 for False so the `sum` function can be used to count the number of `True` values in the data set, rather than printing all the `True` and `False` values.\n",
    "`notnull()` returns the opposite of `isnull` while `notna` is the opposite of `isna`.\n",
    "\n",
    "A `histogram`is a representation of the distribution of data. It charts the data using rectangular bars that are adjacent to each other and display either the frequency or relative frequency of the measurements on the interval or ratio scale.\n",
    " The pandas `hist` function calls `matplotlib.pyplot.hist` on each numerical series in the DataFrame, resulting in one histogram per column.\n",
    "\n",
    "The histograms here show the distribution of each of the the measurements attributes across the iris data set. \n",
    "\n",
    "<img src=\"images/iris_histogram.png\" width=\"400\" alt=\"iris-histogram\" />\n",
    "\n",
    "The histogram for the petal lengths show a clear group of observations having petal lengths that are much smaller than the rest of the observations. Similarly with the petal widths. The sepal lengths show quite a bit of variation with a number of peaks while sepal widths seem to be centred around 3 cms but with a few smaller peaks at both sides of 3 cms.\n",
    "\n",
    "There are three classes or species of iris flower in this data set, the Iris Setosa, the Iris Versicolor and the Iris Virginica.\n",
    "It is possible to look at the summary statistics as the class or species level which I will describe later on.\n",
    "For now I will continue with exploring the data set over all.\n",
    "\n",
    "Looking at a basic boxplot of the iris dataset:\n",
    "\n",
    "<img src=\"images/iris_boxplot.png\" width=\"400\" alt=\"iris-boxplot\" />\n",
    "\n",
    "Interpreting the boxplot.\n",
    "The length of the box is the interquartile range and measures the variability in the data set. The interquartile range (IQR) is the middle 50% of the data and can show the spread or variation of the data. The whiskers show if the data is skewed on one direction or the other. The median is the line through the box. (horizontal line in the plot above)"
   ]
  },
  {
   "cell_type": "markdown",
   "metadata": {},
   "source": [
    "### Correlation between variables.\n",
    "Correlation is a statistical method used to determine whether a linear relationship between variables exists. It shows if one variable tends to occur with large or small values of another variable. It calculates a number *r* between -1 and + 1 where the number (the correlation coefficient) indicates the strength of the relationship and the sign indicates whether that relationship is positive or negative. The correlation coefficient does not depend on the units of measurement or on which variable is on the x or y axis. \n",
    "The correlation statistics are computed from  pairs of arguments.\n",
    "The correlation of the measurements can be got using the `corr` method on the DataFrame. If there is a strong positive relationship beytween the variables, the value of the correlation coefficient *r* will be close to 1, while a strong negative relationship will have a correlation coefficient *r* close to -1. A vlaue of *r* close to zero would indicate that there is no relationship between the variables.\n",
    "\n",
    "A scatter plot is used to visualise the relationship between two variables. It is a graph of the ordered pairs of two variables. One variable is plotted on the x-axis while the other variable is plotted on the y-axis."
   ]
  },
  {
   "cell_type": "markdown",
   "metadata": {},
   "source": [
    "### Visualising the Iris data set by class of iris.\n",
    "\n",
    "The `matplotlib` package can be used to create a graph or plot of the Iris Data set. The `pandas` library also has some built in methods to create visualisations from DataFrame and Series objects which are based on the `matplotlib` library.\n",
    "The `seaborn` library is used for making statistical graphics in Python. It is built on top of matplotlib and closely integrated with pandas data structures. It provides a high-level interface for creating nice looking and informative plots. \n",
    "It's dataset-oriented plotting functions operate on DataFrames such as the `iris` dataframe created from importing the csv data.\n",
    "\n",
    "I will use `seaborn` to create a facetted scatter plot. The iris measurement variables determine the position of each point on the axes. \n",
    "- A `scatter plot` can be used to visualize relationships between numerical variables such as the petal measurements and the sepal measurements in the iris data set.    \n",
    "- A `catplot()` can capture the relationship between a numeric variable and one (or more) categorical variables, such as the class or species of iris plant.   \n",
    "\n",
    "The `seaborn` documentation section called [Visualising dataset structure](http://seaborn.pydata.org/introduction.html#visualizing-dataset-structure) actually illustrates some of the `seaborn` plotting functions using the iris data set which is built into the seabron library.\n",
    "\n",
    "It's `jointplot()` function focusses on a single relationship in the data set, while it's `pairplot()` function shows all pairwise relationships and the marginal distributions that can be conditioned on a categorical variable.\n",
    "\n",
    "The function `relplot()` is used to visualize many different statistical relationships.\n",
    "\n",
    "[pandas-visualisation](https://pandas.pydata.org/pandas-docs/stable/user_guide/visualization.html#visualization)  \n",
    "[matplotlib -pyplot](https://matplotlib.org/tutorials/introductory/pyplot.html#sphx-glr-tutorials-introductory-pyplot-py)\n",
    "[seaborn](https://seaborn.pydata.org/introduction.html#introduction)\n"
   ]
  },
  {
   "cell_type": "markdown",
   "metadata": {},
   "source": [
    "### Summary results of the Fisher Iris data set. "
   ]
  },
  {
   "cell_type": "markdown",
   "metadata": {},
   "source": [
    "## 10. References\n",
    "<a name=\"references\"></a>\n",
    "\n",
    "- [Python Data Analysis Library](https://pandas.pydata.org)\n",
    "\n",
    "- [10 Minutes to Pandas](https://pandas.pydata.org/pandas-docs/stable/getting_started/10min.html)\n",
    "\n",
    "- [Mastering Markdown](https://guides.github.com/features/mastering-markdown/)\n",
    "\n",
    "- [Github Flavoured Markdown](https://github.github.com/gfm/#what-is-github-flavored-markdown-)\n",
    "\n",
    "- [UCI Machine Learning Repository: Iris Dataset](https://archive.ics.uci.edu/ml/datasets/iris)\n",
    "\n",
    "- [Python, R and Linux Tips](https://cmdlinetips.com/category/python/)\n",
    "\n",
    "- [Wikipedia - Iris Flower Data Set](https://en.wikipedia.org/wiki/Iris_flower_data_set)\n",
    "\n",
    "- [Wikipedia - Ronald Fisher](https://en.wikipedia.org/wiki/Ronald_Fisher)\n",
    "\n",
    "- [cmdlinetips.com](https://cmdlinetips.com/2018/01/7-tips-to-read-a-csv-file-as-pandas-data-frame/)\n",
    "\n",
    "- [Iris Dataset - Exploratory Data Analysis](https://www.kaggle.com/lalitharajesh/iris-dataset-exploratory-data-analysis)\n",
    "\n",
    "- [seaborn:statistical data visualisation ](https://seaborn.pydata.org/index.html)\n",
    "\n",
    "- [Multiple Measurements in Taxonomic Problems by R.A Fisher](https://onlinelibrary.wiley.com/doi/pdf/10.1111j.1469-1809.1936.tb02137.x)\n",
    "\n",
    "- Python for Data Analysis - Wes McKinney\n",
    "Data Wrangling with Pandas, NumPy and IPython\n",
    "\n",
    "For this project, I am mainly working through the pandas documentation at - [https://pandas.pydata.org](https://pandas.pydata.org). I am also using the `seaborn` library for plotting and hope to explore some of the other python libraries.\n",
    "I am also reading through the `Python for Data Analysis` book by Wes McKinney, who is the creator of the Python Pandas project.\n"
   ]
  },
  {
   "cell_type": "code",
   "execution_count": 5,
   "metadata": {},
   "outputs": [
    {
     "name": "stdout",
     "output_type": "stream",
     "text": [
      "   Sepal_Length  Sepal_Width  Petal_Length  Petal_Width        Class\n",
      "0           5.1          3.5           1.4          0.2  Iris-setosa\n",
      "1           4.9          3.0           1.4          0.2  Iris-setosa\n",
      "2           4.7          3.2           1.3          0.2  Iris-setosa\n",
      "3           4.6          3.1           1.5          0.2  Iris-setosa\n",
      "4           5.0          3.6           1.4          0.2  Iris-setosa\n",
      "5           5.4          3.9           1.7          0.4  Iris-setosa\n",
      "6           4.6          3.4           1.4          0.3  Iris-setosa\n",
      "7           5.0          3.4           1.5          0.2  Iris-setosa\n",
      "8           4.4          2.9           1.4          0.2  Iris-setosa\n",
      "9           4.9          3.1           1.5          0.1  Iris-setosa\n",
      "     Sepal_Length  Sepal_Width  Petal_Length  Petal_Width           Class\n",
      "140           6.7          3.1           5.6          2.4  Iris-virginica\n",
      "141           6.9          3.1           5.1          2.3  Iris-virginica\n",
      "142           5.8          2.7           5.1          1.9  Iris-virginica\n",
      "143           6.8          3.2           5.9          2.3  Iris-virginica\n",
      "144           6.7          3.3           5.7          2.5  Iris-virginica\n",
      "145           6.7          3.0           5.2          2.3  Iris-virginica\n",
      "146           6.3          2.5           5.0          1.9  Iris-virginica\n",
      "147           6.5          3.0           5.2          2.0  Iris-virginica\n",
      "148           6.2          3.4           5.4          2.3  Iris-virginica\n",
      "149           5.9          3.0           5.1          1.8  Iris-virginica\n"
     ]
    }
   ],
   "source": [
    "# using the pandas DataFrame method head to return the first rows of the DataFrame and check that the file was correctly loaded\n",
    "print(iris.head(10))\n",
    "# using the pandas DataFrame method tail to return the last rows of the DataFrame and check that the file was correctly loaded\n",
    "print(iris.tail(10))"
   ]
  },
  {
   "cell_type": "markdown",
   "metadata": {},
   "source": [
    "### Where I am!\n",
    "At the moment I am keeping my jupyter notebook in sync with the updated README document. \n",
    "I have copied and pasted the markdown into this notebook.\n",
    "I have not changed anything with the code as this is the code I ran in the notebook before copying into my project_iris.py script.\n",
    "I will come back to this point before I try any more code!"
   ]
  },
  {
   "cell_type": "markdown",
   "metadata": {},
   "source": [
    "anything from here down is from before I updated the readme.\n",
    "I will save this notebook to GitHub repository"
   ]
  },
  {
   "cell_type": "code",
   "execution_count": 6,
   "metadata": {},
   "outputs": [
    {
     "data": {
      "text/html": [
       "<div>\n",
       "<style scoped>\n",
       "    .dataframe tbody tr th:only-of-type {\n",
       "        vertical-align: middle;\n",
       "    }\n",
       "\n",
       "    .dataframe tbody tr th {\n",
       "        vertical-align: top;\n",
       "    }\n",
       "\n",
       "    .dataframe thead th {\n",
       "        text-align: right;\n",
       "    }\n",
       "</style>\n",
       "<table border=\"1\" class=\"dataframe\">\n",
       "  <thead>\n",
       "    <tr style=\"text-align: right;\">\n",
       "      <th></th>\n",
       "      <th>Sepal_Length</th>\n",
       "      <th>Sepal_Width</th>\n",
       "      <th>Petal_Length</th>\n",
       "      <th>Petal_Width</th>\n",
       "      <th>Class</th>\n",
       "    </tr>\n",
       "  </thead>\n",
       "  <tbody>\n",
       "    <tr>\n",
       "      <th>0</th>\n",
       "      <td>5.1</td>\n",
       "      <td>3.5</td>\n",
       "      <td>1.4</td>\n",
       "      <td>0.2</td>\n",
       "      <td>Iris-setosa</td>\n",
       "    </tr>\n",
       "    <tr>\n",
       "      <th>1</th>\n",
       "      <td>4.9</td>\n",
       "      <td>3.0</td>\n",
       "      <td>1.4</td>\n",
       "      <td>0.2</td>\n",
       "      <td>Iris-setosa</td>\n",
       "    </tr>\n",
       "    <tr>\n",
       "      <th>2</th>\n",
       "      <td>4.7</td>\n",
       "      <td>3.2</td>\n",
       "      <td>1.3</td>\n",
       "      <td>0.2</td>\n",
       "      <td>Iris-setosa</td>\n",
       "    </tr>\n",
       "    <tr>\n",
       "      <th>3</th>\n",
       "      <td>4.6</td>\n",
       "      <td>3.1</td>\n",
       "      <td>1.5</td>\n",
       "      <td>0.2</td>\n",
       "      <td>Iris-setosa</td>\n",
       "    </tr>\n",
       "    <tr>\n",
       "      <th>4</th>\n",
       "      <td>5.0</td>\n",
       "      <td>3.6</td>\n",
       "      <td>1.4</td>\n",
       "      <td>0.2</td>\n",
       "      <td>Iris-setosa</td>\n",
       "    </tr>\n",
       "  </tbody>\n",
       "</table>\n",
       "</div>"
      ],
      "text/plain": [
       "   Sepal_Length  Sepal_Width  Petal_Length  Petal_Width        Class\n",
       "0           5.1          3.5           1.4          0.2  Iris-setosa\n",
       "1           4.9          3.0           1.4          0.2  Iris-setosa\n",
       "2           4.7          3.2           1.3          0.2  Iris-setosa\n",
       "3           4.6          3.1           1.5          0.2  Iris-setosa\n",
       "4           5.0          3.6           1.4          0.2  Iris-setosa"
      ]
     },
     "execution_count": 6,
     "metadata": {},
     "output_type": "execute_result"
    }
   ],
   "source": [
    "iris.head()"
   ]
  },
  {
   "cell_type": "markdown",
   "metadata": {},
   "source": [
    "<a name=\"section\"></a>"
   ]
  },
  {
   "cell_type": "code",
   "execution_count": 7,
   "metadata": {},
   "outputs": [
    {
     "data": {
      "text/html": [
       "<div>\n",
       "<style scoped>\n",
       "    .dataframe tbody tr th:only-of-type {\n",
       "        vertical-align: middle;\n",
       "    }\n",
       "\n",
       "    .dataframe tbody tr th {\n",
       "        vertical-align: top;\n",
       "    }\n",
       "\n",
       "    .dataframe thead th {\n",
       "        text-align: right;\n",
       "    }\n",
       "</style>\n",
       "<table border=\"1\" class=\"dataframe\">\n",
       "  <thead>\n",
       "    <tr style=\"text-align: right;\">\n",
       "      <th></th>\n",
       "      <th>Sepal_Length</th>\n",
       "      <th>Sepal_Width</th>\n",
       "      <th>Petal_Length</th>\n",
       "      <th>Petal_Width</th>\n",
       "      <th>Class</th>\n",
       "    </tr>\n",
       "  </thead>\n",
       "  <tbody>\n",
       "    <tr>\n",
       "      <th>145</th>\n",
       "      <td>6.7</td>\n",
       "      <td>3.0</td>\n",
       "      <td>5.2</td>\n",
       "      <td>2.3</td>\n",
       "      <td>Iris-virginica</td>\n",
       "    </tr>\n",
       "    <tr>\n",
       "      <th>146</th>\n",
       "      <td>6.3</td>\n",
       "      <td>2.5</td>\n",
       "      <td>5.0</td>\n",
       "      <td>1.9</td>\n",
       "      <td>Iris-virginica</td>\n",
       "    </tr>\n",
       "    <tr>\n",
       "      <th>147</th>\n",
       "      <td>6.5</td>\n",
       "      <td>3.0</td>\n",
       "      <td>5.2</td>\n",
       "      <td>2.0</td>\n",
       "      <td>Iris-virginica</td>\n",
       "    </tr>\n",
       "    <tr>\n",
       "      <th>148</th>\n",
       "      <td>6.2</td>\n",
       "      <td>3.4</td>\n",
       "      <td>5.4</td>\n",
       "      <td>2.3</td>\n",
       "      <td>Iris-virginica</td>\n",
       "    </tr>\n",
       "    <tr>\n",
       "      <th>149</th>\n",
       "      <td>5.9</td>\n",
       "      <td>3.0</td>\n",
       "      <td>5.1</td>\n",
       "      <td>1.8</td>\n",
       "      <td>Iris-virginica</td>\n",
       "    </tr>\n",
       "  </tbody>\n",
       "</table>\n",
       "</div>"
      ],
      "text/plain": [
       "     Sepal_Length  Sepal_Width  Petal_Length  Petal_Width           Class\n",
       "145           6.7          3.0           5.2          2.3  Iris-virginica\n",
       "146           6.3          2.5           5.0          1.9  Iris-virginica\n",
       "147           6.5          3.0           5.2          2.0  Iris-virginica\n",
       "148           6.2          3.4           5.4          2.3  Iris-virginica\n",
       "149           5.9          3.0           5.1          1.8  Iris-virginica"
      ]
     },
     "execution_count": 7,
     "metadata": {},
     "output_type": "execute_result"
    }
   ],
   "source": [
    "iris.tail()"
   ]
  },
  {
   "cell_type": "markdown",
   "metadata": {},
   "source": [
    "\n",
    "## <a id=\"exploring_iris\"></a>Exploring the Iris data set\n",
    "Exploring the Iris data set\n",
    "`pandas.describe()` produces a set of summary statistics for the DataFrame.\n",
    "pandas `head()` shows the top 5 observations while `tail()` shows the bottom 5 observations of the dataFrame.\n",
    "Tne number of observations to display can be changed by adding an argument to the head and tail functions.\n"
   ]
  },
  {
   "cell_type": "markdown",
   "metadata": {},
   "source": [
    "### This is for the Readme file\n",
    "There are many functions in the `pandas` library which can be used to explore the Iris data set. Having imported the iris data set from a csv file into a pandas DataFrame, there are many pandas attributes and methods which I can use here on the iris DataFrame object.\n",
    "http://pandas.pydata.org/pandas-docs/stable/reference/api/pandas.DataFrame.html#pandas.DataFrame\n",
    "First I will look at some of the attributes of the `iris` DataFrame.\n",
    "\n",
    "### Attributes of the iris DataFrame"
   ]
  },
  {
   "cell_type": "code",
   "execution_count": 8,
   "metadata": {},
   "outputs": [
    {
     "data": {
      "text/plain": [
       "[RangeIndex(start=0, stop=150, step=1),\n",
       " Index(['Sepal_Length', 'Sepal_Width', 'Petal_Length', 'Petal_Width', 'Class'], dtype='object')]"
      ]
     },
     "execution_count": 8,
     "metadata": {},
     "output_type": "execute_result"
    }
   ],
   "source": [
    "# return a a list representing the axes of the iris DataFrame.\n",
    "iris.axes"
   ]
  },
  {
   "cell_type": "code",
   "execution_count": 9,
   "metadata": {},
   "outputs": [
    {
     "data": {
      "text/plain": [
       "Index(['Sepal_Length', 'Sepal_Width', 'Petal_Length', 'Petal_Width', 'Class'], dtype='object')"
      ]
     },
     "execution_count": 9,
     "metadata": {},
     "output_type": "execute_result"
    }
   ],
   "source": [
    "# The column labels of the iris DataFrame.\n",
    "iris.columns"
   ]
  },
  {
   "cell_type": "code",
   "execution_count": 10,
   "metadata": {},
   "outputs": [
    {
     "data": {
      "text/plain": [
       "Sepal_Length    float64\n",
       "Sepal_Width     float64\n",
       "Petal_Length    float64\n",
       "Petal_Width     float64\n",
       "Class            object\n",
       "dtype: object"
      ]
     },
     "execution_count": 10,
     "metadata": {},
     "output_type": "execute_result"
    }
   ],
   "source": [
    "# the dtypes (data types) of the iris DataFrame\n",
    "iris.dtypes"
   ]
  },
  {
   "cell_type": "code",
   "execution_count": 11,
   "metadata": {},
   "outputs": [
    {
     "data": {
      "text/plain": [
       "2"
      ]
     },
     "execution_count": 11,
     "metadata": {},
     "output_type": "execute_result"
    }
   ],
   "source": [
    "# the number of axes / array dimensions of the iris DataFrame\n",
    "iris.ndim"
   ]
  },
  {
   "cell_type": "code",
   "execution_count": 12,
   "metadata": {},
   "outputs": [
    {
     "data": {
      "text/plain": [
       "750"
      ]
     },
     "execution_count": 12,
     "metadata": {},
     "output_type": "execute_result"
    }
   ],
   "source": [
    "# the number of elements in the iris object.\n",
    "iris.size"
   ]
  },
  {
   "cell_type": "code",
   "execution_count": 13,
   "metadata": {},
   "outputs": [
    {
     "data": {
      "text/plain": [
       "(150, 5)"
      ]
     },
     "execution_count": 13,
     "metadata": {},
     "output_type": "execute_result"
    }
   ],
   "source": [
    "# Look at the shape of the iris DataFrame. This shows the number of rows and columns in the DataFrame\n",
    "iris.shape\n",
    "# 150 rows and 5 columns\n"
   ]
  },
  {
   "cell_type": "code",
   "execution_count": 14,
   "metadata": {},
   "outputs": [
    {
     "data": {
      "text/plain": [
       "Sepal_Length    float64:dense\n",
       "Sepal_Width     float64:dense\n",
       "Petal_Length    float64:dense\n",
       "Petal_Width     float64:dense\n",
       "Class            object:dense\n",
       "dtype: object"
      ]
     },
     "execution_count": 14,
     "metadata": {},
     "output_type": "execute_result"
    }
   ],
   "source": [
    "# Return the ftypes (indication of sparse/dense and dtype) in the iris DataFrame.\n",
    "iris.ftypes"
   ]
  },
  {
   "cell_type": "markdown",
   "metadata": {},
   "source": [
    "### Using DataFrame methods \n",
    "\n",
    "mask(cond[, other, inplace, axis, level, …])\tReplace values where the condition is True.\n",
    "melt([id_vars, value_vars, var_name, …])\tUnpivots a DataFrame from wide format to long format, optionally leaving identifier variables set.\n",
    "query(expr[, inplace])\tQuery the columns of a DataFrame with a boolean expression.\n",
    "rank([axis, method, numeric_only, …])\tCompute numerical data ranks (1 through n) along axis.\n",
    "sort_index([axis, level, ascending, …])\tSort object by labels (along an axis)\n",
    "sort_values(by[, axis, ascending, inplace, …])\tSort by the values along either axis\n"
   ]
  },
  {
   "cell_type": "code",
   "execution_count": 15,
   "metadata": {},
   "outputs": [
    {
     "name": "stdout",
     "output_type": "stream",
     "text": [
      "<class 'pandas.core.frame.DataFrame'>\n",
      "RangeIndex: 150 entries, 0 to 149\n",
      "Data columns (total 5 columns):\n",
      "Sepal_Length    150 non-null float64\n",
      "Sepal_Width     150 non-null float64\n",
      "Petal_Length    150 non-null float64\n",
      "Petal_Width     150 non-null float64\n",
      "Class           150 non-null object\n",
      "dtypes: float64(4), object(1)\n",
      "memory usage: 5.9+ KB\n"
     ]
    }
   ],
   "source": [
    "# Print a concise summary of the iris DataFrame.\n",
    "iris.info()"
   ]
  },
  {
   "cell_type": "code",
   "execution_count": 16,
   "metadata": {},
   "outputs": [
    {
     "data": {
      "text/plain": [
       "Sepal_Length    150\n",
       "Sepal_Width     150\n",
       "Petal_Length    150\n",
       "Petal_Width     150\n",
       "Class           150\n",
       "dtype: int64"
      ]
     },
     "execution_count": 16,
     "metadata": {},
     "output_type": "execute_result"
    }
   ],
   "source": [
    "# Count non-NA cells for each column or row.\n",
    "iris.count()"
   ]
  },
  {
   "cell_type": "markdown",
   "metadata": {},
   "source": [
    "It is possible to check for missing values in the DataFrame using the panda's `isnull()` method which shows that there are no missing values. There should be no missing values in this DataFrame as there are no missing values in the csv file. "
   ]
  },
  {
   "cell_type": "code",
   "execution_count": 17,
   "metadata": {},
   "outputs": [
    {
     "data": {
      "text/plain": [
       "Sepal_Length    150\n",
       "Sepal_Width     150\n",
       "Petal_Length    150\n",
       "Petal_Width     150\n",
       "Class           150\n",
       "dtype: int64"
      ]
     },
     "execution_count": 17,
     "metadata": {},
     "output_type": "execute_result"
    }
   ],
   "source": [
    "# Detect missing values in the DataFrame. Sum the values instead of printing the boolean values.\n",
    "iris.isna().sum()\n",
    "iris.isnull().sum()\n",
    "# Detect existing (non-missing) values using notnull or notna. \n",
    "iris.notnull().sum()\n",
    "iris.notna().sum()\n",
    "iris.count()"
   ]
  },
  {
   "cell_type": "code",
   "execution_count": 51,
   "metadata": {},
   "outputs": [
    {
     "data": {
      "text/plain": [
       "Sepal_Length    0\n",
       "Sepal_Width     0\n",
       "Petal_Length    0\n",
       "Petal_Width     0\n",
       "Class           0\n",
       "dtype: int64"
      ]
     },
     "execution_count": 51,
     "metadata": {},
     "output_type": "execute_result"
    }
   ],
   "source": [
    "iris.isna().sum()"
   ]
  },
  {
   "cell_type": "code",
   "execution_count": 18,
   "metadata": {},
   "outputs": [
    {
     "data": {
      "text/html": [
       "<div>\n",
       "<style scoped>\n",
       "    .dataframe tbody tr th:only-of-type {\n",
       "        vertical-align: middle;\n",
       "    }\n",
       "\n",
       "    .dataframe tbody tr th {\n",
       "        vertical-align: top;\n",
       "    }\n",
       "\n",
       "    .dataframe thead th {\n",
       "        text-align: right;\n",
       "    }\n",
       "</style>\n",
       "<table border=\"1\" class=\"dataframe\">\n",
       "  <thead>\n",
       "    <tr style=\"text-align: right;\">\n",
       "      <th></th>\n",
       "      <th>Sepal_Length</th>\n",
       "      <th>Sepal_Width</th>\n",
       "      <th>Petal_Length</th>\n",
       "      <th>Petal_Width</th>\n",
       "      <th>Class</th>\n",
       "    </tr>\n",
       "  </thead>\n",
       "  <tbody>\n",
       "    <tr>\n",
       "      <th>0</th>\n",
       "      <td>5.1</td>\n",
       "      <td>3.5</td>\n",
       "      <td>1.4</td>\n",
       "      <td>0.2</td>\n",
       "      <td>Iris-setosa</td>\n",
       "    </tr>\n",
       "    <tr>\n",
       "      <th>1</th>\n",
       "      <td>4.9</td>\n",
       "      <td>3.0</td>\n",
       "      <td>1.4</td>\n",
       "      <td>0.2</td>\n",
       "      <td>Iris-setosa</td>\n",
       "    </tr>\n",
       "    <tr>\n",
       "      <th>2</th>\n",
       "      <td>4.7</td>\n",
       "      <td>3.2</td>\n",
       "      <td>1.3</td>\n",
       "      <td>0.2</td>\n",
       "      <td>Iris-setosa</td>\n",
       "    </tr>\n",
       "    <tr>\n",
       "      <th>3</th>\n",
       "      <td>4.6</td>\n",
       "      <td>3.1</td>\n",
       "      <td>1.5</td>\n",
       "      <td>0.2</td>\n",
       "      <td>Iris-setosa</td>\n",
       "    </tr>\n",
       "    <tr>\n",
       "      <th>4</th>\n",
       "      <td>5.0</td>\n",
       "      <td>3.6</td>\n",
       "      <td>1.4</td>\n",
       "      <td>0.2</td>\n",
       "      <td>Iris-setosa</td>\n",
       "    </tr>\n",
       "  </tbody>\n",
       "</table>\n",
       "</div>"
      ],
      "text/plain": [
       "   Sepal_Length  Sepal_Width  Petal_Length  Petal_Width        Class\n",
       "0           5.1          3.5           1.4          0.2  Iris-setosa\n",
       "1           4.9          3.0           1.4          0.2  Iris-setosa\n",
       "2           4.7          3.2           1.3          0.2  Iris-setosa\n",
       "3           4.6          3.1           1.5          0.2  Iris-setosa\n",
       "4           5.0          3.6           1.4          0.2  Iris-setosa"
      ]
     },
     "execution_count": 18,
     "metadata": {},
     "output_type": "execute_result"
    }
   ],
   "source": [
    "# Look at the first 5 rows of iris\n",
    "iris.head()"
   ]
  },
  {
   "cell_type": "code",
   "execution_count": 19,
   "metadata": {},
   "outputs": [
    {
     "data": {
      "text/html": [
       "<div>\n",
       "<style scoped>\n",
       "    .dataframe tbody tr th:only-of-type {\n",
       "        vertical-align: middle;\n",
       "    }\n",
       "\n",
       "    .dataframe tbody tr th {\n",
       "        vertical-align: top;\n",
       "    }\n",
       "\n",
       "    .dataframe thead th {\n",
       "        text-align: right;\n",
       "    }\n",
       "</style>\n",
       "<table border=\"1\" class=\"dataframe\">\n",
       "  <thead>\n",
       "    <tr style=\"text-align: right;\">\n",
       "      <th></th>\n",
       "      <th>Sepal_Length</th>\n",
       "      <th>Sepal_Width</th>\n",
       "      <th>Petal_Length</th>\n",
       "      <th>Petal_Width</th>\n",
       "      <th>Class</th>\n",
       "    </tr>\n",
       "  </thead>\n",
       "  <tbody>\n",
       "    <tr>\n",
       "      <th>145</th>\n",
       "      <td>6.7</td>\n",
       "      <td>3.0</td>\n",
       "      <td>5.2</td>\n",
       "      <td>2.3</td>\n",
       "      <td>Iris-virginica</td>\n",
       "    </tr>\n",
       "    <tr>\n",
       "      <th>146</th>\n",
       "      <td>6.3</td>\n",
       "      <td>2.5</td>\n",
       "      <td>5.0</td>\n",
       "      <td>1.9</td>\n",
       "      <td>Iris-virginica</td>\n",
       "    </tr>\n",
       "    <tr>\n",
       "      <th>147</th>\n",
       "      <td>6.5</td>\n",
       "      <td>3.0</td>\n",
       "      <td>5.2</td>\n",
       "      <td>2.0</td>\n",
       "      <td>Iris-virginica</td>\n",
       "    </tr>\n",
       "    <tr>\n",
       "      <th>148</th>\n",
       "      <td>6.2</td>\n",
       "      <td>3.4</td>\n",
       "      <td>5.4</td>\n",
       "      <td>2.3</td>\n",
       "      <td>Iris-virginica</td>\n",
       "    </tr>\n",
       "    <tr>\n",
       "      <th>149</th>\n",
       "      <td>5.9</td>\n",
       "      <td>3.0</td>\n",
       "      <td>5.1</td>\n",
       "      <td>1.8</td>\n",
       "      <td>Iris-virginica</td>\n",
       "    </tr>\n",
       "  </tbody>\n",
       "</table>\n",
       "</div>"
      ],
      "text/plain": [
       "     Sepal_Length  Sepal_Width  Petal_Length  Petal_Width           Class\n",
       "145           6.7          3.0           5.2          2.3  Iris-virginica\n",
       "146           6.3          2.5           5.0          1.9  Iris-virginica\n",
       "147           6.5          3.0           5.2          2.0  Iris-virginica\n",
       "148           6.2          3.4           5.4          2.3  Iris-virginica\n",
       "149           5.9          3.0           5.1          1.8  Iris-virginica"
      ]
     },
     "execution_count": 19,
     "metadata": {},
     "output_type": "execute_result"
    }
   ],
   "source": [
    "# look at the last 5 rows of iris.\n",
    "iris.tail()"
   ]
  },
  {
   "cell_type": "code",
   "execution_count": 20,
   "metadata": {},
   "outputs": [
    {
     "data": {
      "text/html": [
       "<div>\n",
       "<style scoped>\n",
       "    .dataframe tbody tr th:only-of-type {\n",
       "        vertical-align: middle;\n",
       "    }\n",
       "\n",
       "    .dataframe tbody tr th {\n",
       "        vertical-align: top;\n",
       "    }\n",
       "\n",
       "    .dataframe thead th {\n",
       "        text-align: right;\n",
       "    }\n",
       "</style>\n",
       "<table border=\"1\" class=\"dataframe\">\n",
       "  <thead>\n",
       "    <tr style=\"text-align: right;\">\n",
       "      <th></th>\n",
       "      <th>Sepal_Length</th>\n",
       "      <th>Sepal_Width</th>\n",
       "      <th>Petal_Length</th>\n",
       "      <th>Petal_Width</th>\n",
       "    </tr>\n",
       "  </thead>\n",
       "  <tbody>\n",
       "    <tr>\n",
       "      <th>count</th>\n",
       "      <td>150.000000</td>\n",
       "      <td>150.000000</td>\n",
       "      <td>150.000000</td>\n",
       "      <td>150.000000</td>\n",
       "    </tr>\n",
       "    <tr>\n",
       "      <th>mean</th>\n",
       "      <td>5.843333</td>\n",
       "      <td>3.054000</td>\n",
       "      <td>3.758667</td>\n",
       "      <td>1.198667</td>\n",
       "    </tr>\n",
       "    <tr>\n",
       "      <th>std</th>\n",
       "      <td>0.828066</td>\n",
       "      <td>0.433594</td>\n",
       "      <td>1.764420</td>\n",
       "      <td>0.763161</td>\n",
       "    </tr>\n",
       "    <tr>\n",
       "      <th>min</th>\n",
       "      <td>4.300000</td>\n",
       "      <td>2.000000</td>\n",
       "      <td>1.000000</td>\n",
       "      <td>0.100000</td>\n",
       "    </tr>\n",
       "    <tr>\n",
       "      <th>25%</th>\n",
       "      <td>5.100000</td>\n",
       "      <td>2.800000</td>\n",
       "      <td>1.600000</td>\n",
       "      <td>0.300000</td>\n",
       "    </tr>\n",
       "    <tr>\n",
       "      <th>50%</th>\n",
       "      <td>5.800000</td>\n",
       "      <td>3.000000</td>\n",
       "      <td>4.350000</td>\n",
       "      <td>1.300000</td>\n",
       "    </tr>\n",
       "    <tr>\n",
       "      <th>75%</th>\n",
       "      <td>6.400000</td>\n",
       "      <td>3.300000</td>\n",
       "      <td>5.100000</td>\n",
       "      <td>1.800000</td>\n",
       "    </tr>\n",
       "    <tr>\n",
       "      <th>max</th>\n",
       "      <td>7.900000</td>\n",
       "      <td>4.400000</td>\n",
       "      <td>6.900000</td>\n",
       "      <td>2.500000</td>\n",
       "    </tr>\n",
       "  </tbody>\n",
       "</table>\n",
       "</div>"
      ],
      "text/plain": [
       "       Sepal_Length  Sepal_Width  Petal_Length  Petal_Width\n",
       "count    150.000000   150.000000    150.000000   150.000000\n",
       "mean       5.843333     3.054000      3.758667     1.198667\n",
       "std        0.828066     0.433594      1.764420     0.763161\n",
       "min        4.300000     2.000000      1.000000     0.100000\n",
       "25%        5.100000     2.800000      1.600000     0.300000\n",
       "50%        5.800000     3.000000      4.350000     1.300000\n",
       "75%        6.400000     3.300000      5.100000     1.800000\n",
       "max        7.900000     4.400000      6.900000     2.500000"
      ]
     },
     "execution_count": 20,
     "metadata": {},
     "output_type": "execute_result"
    }
   ],
   "source": [
    "# Generate descriptive statistics for the iris DataFrame. \n",
    "# These statistics summarize the central tendency, dispersion and shape of a dataset’s distribution, excluding NaN values.\n",
    "iris.describe()"
   ]
  },
  {
   "cell_type": "markdown",
   "metadata": {},
   "source": [
    "<a name=\"section\"></a>"
   ]
  },
  {
   "cell_type": "markdown",
   "metadata": {},
   "source": [
    "The initial exploration of the Iris DataFrame shows that there are 150 rows and 5 columns of data. \n",
    "Each row corresponds to an individual observation of an iris plant. The columns show the individual measurements (in centimetres) of the length of the sepal, the length of the petal, the width of the sepal and the width of the petal.\n",
    "\n",
    "The mean of the Sepal length is greater than the mean of all the other measurements. \n",
    "The mean of the petal width has the lowest measurements. \n",
    "The standard deviation in the petal lengths shows the highest variability of the four measurements at 1.76 while the standard deviations of the petal width is approx 0.43.\n",
    "\n",
    "The shortest petal in the data set is 1 cm while the longest petal is 6.9 cm.\n",
    "The widths of the petals vary from 0.1 cm to 2.5 cm.\n",
    "The shortest sepal in the data set is 4.3 cm while the longest sepal is 7.9 cm. The narrowest sepal is 2cm while the widest sepal is 4.4 centimetres.\n"
   ]
  },
  {
   "cell_type": "code",
   "execution_count": 21,
   "metadata": {},
   "outputs": [],
   "source": [
    "#help(pd.DataFrame.hist)"
   ]
  },
  {
   "cell_type": "code",
   "execution_count": 43,
   "metadata": {},
   "outputs": [
    {
     "data": {
      "text/plain": [
       "<matplotlib.axes._subplots.AxesSubplot at 0x1a1e0b1898>"
      ]
     },
     "execution_count": 43,
     "metadata": {},
     "output_type": "execute_result"
    },
    {
     "data": {
      "text/plain": [
       "<Figure size 432x288 with 0 Axes>"
      ]
     },
     "metadata": {},
     "output_type": "display_data"
    },
    {
     "data": {
      "image/png": "[encoded data removed]",
      "text/plain": [
       "<Figure size 432x288 with 1 Axes>"
      ]
     },
     "metadata": {
      "needs_background": "light"
     },
     "output_type": "display_data"
    }
   ],
   "source": [
    "plt.figure()\n",
    "\n",
    "iris.plot.hist(alpha=0.5, bins=30)"
   ]
  },
  {
   "cell_type": "code",
   "execution_count": 25,
   "metadata": {},
   "outputs": [
    {
     "data": {
      "text/plain": [
       "<Figure size 432x288 with 0 Axes>"
      ]
     },
     "execution_count": 25,
     "metadata": {},
     "output_type": "execute_result"
    },
    {
     "data": {
      "text/plain": [
       "<Figure size 432x288 with 0 Axes>"
      ]
     },
     "metadata": {},
     "output_type": "display_data"
    }
   ],
   "source": [
    "plt.figure()"
   ]
  },
  {
   "cell_type": "markdown",
   "metadata": {},
   "source": [
    "### histogram\n",
    "\n",
    "show the distribution of the dataset "
   ]
  },
  {
   "cell_type": "code",
   "execution_count": 46,
   "metadata": {},
   "outputs": [
    {
     "data": {
      "text/plain": [
       "array([[<matplotlib.axes._subplots.AxesSubplot object at 0x1a1e474080>,\n",
       "        <matplotlib.axes._subplots.AxesSubplot object at 0x1a1e258860>],\n",
       "       [<matplotlib.axes._subplots.AxesSubplot object at 0x1a1e0cbda0>,\n",
       "        <matplotlib.axes._subplots.AxesSubplot object at 0x1a1e2a6358>]],\n",
       "      dtype=object)"
      ]
     },
     "execution_count": 46,
     "metadata": {},
     "output_type": "execute_result"
    },
    {
     "data": {
      "image/png": "[encoded data removed]",
      "text/plain": [
       "<Figure size 864x576 with 4 Axes>"
      ]
     },
     "metadata": {
      "needs_background": "light"
     },
     "output_type": "display_data"
    }
   ],
   "source": [
    "# Make a histogram of the iris DataFrame. Shows one histogram per each of the 4 measurement attributes\n",
    "\n",
    "iris.hist(alpha=0.8, bins=30, figsize=(12,8))\n"
   ]
  },
  {
   "cell_type": "code",
   "execution_count": 49,
   "metadata": {},
   "outputs": [
    {
     "data": {
      "text/plain": [
       "<matplotlib.axes._subplots.AxesSubplot at 0x1a1ed05dd8>"
      ]
     },
     "execution_count": 49,
     "metadata": {},
     "output_type": "execute_result"
    },
    {
     "data": {
      "image/png": "[encoded data removed]",
      "text/plain": [
       "<Figure size 864x576 with 1 Axes>"
      ]
     },
     "metadata": {
      "needs_background": "light"
     },
     "output_type": "display_data"
    }
   ],
   "source": [
    "iris.plot.box(figsize=(12,8))"
   ]
  },
  {
   "cell_type": "code",
   "execution_count": 33,
   "metadata": {},
   "outputs": [
    {
     "data": {
      "text/plain": [
       "<matplotlib.axes._subplots.AxesSubplot at 0x1a1ce28240>"
      ]
     },
     "execution_count": 33,
     "metadata": {},
     "output_type": "execute_result"
    },
    {
     "data": {
      "text/plain": [
       "<Figure size 432x288 with 0 Axes>"
      ]
     },
     "metadata": {},
     "output_type": "display_data"
    },
    {
     "data": {
      "image/png": "[encoded data removed]",
      "text/plain": [
       "<Figure size 432x288 with 1 Axes>"
      ]
     },
     "metadata": {
      "needs_background": "light"
     },
     "output_type": "display_data"
    }
   ],
   "source": [
    "plt.figure()\n",
    "iris.plot.box()"
   ]
  },
  {
   "cell_type": "code",
   "execution_count": 85,
   "metadata": {},
   "outputs": [
    {
     "data": {
      "text/plain": [
       "Sepal_Length    35\n",
       "Sepal_Width     23\n",
       "Petal_Length    43\n",
       "Petal_Width     22\n",
       "Class            3\n",
       "dtype: int64"
      ]
     },
     "execution_count": 85,
     "metadata": {},
     "output_type": "execute_result"
    }
   ],
   "source": [
    "# count distinct observations.\n",
    "iris.nunique()"
   ]
  },
  {
   "cell_type": "markdown",
   "metadata": {},
   "source": [
    "There are three classes or species of iris flower in this data set. The data set is known to have three classes of iris flower, the Iris Setosa, the Iris Versicolor and the Iris Virginica.\n",
    "It is possible to look at each \n",
    "\n"
   ]
  },
  {
   "cell_type": "code",
   "execution_count": 16,
   "metadata": {},
   "outputs": [
    {
     "data": {
      "text/plain": [
       "array(['Iris-setosa', 'Iris-versicolor', 'Iris-virginica'], dtype=object)"
      ]
     },
     "execution_count": 16,
     "metadata": {},
     "output_type": "execute_result"
    }
   ],
   "source": [
    "# Using the `unique()` method to show how many different class or species of Iris flower is in the data set.\n",
    "\n",
    "iris['Class'].unique()"
   ]
  },
  {
   "cell_type": "markdown",
   "metadata": {},
   "source": [
    "As mentioned at the start, the Iris Data Set is a very well known data set found in pattern recognition literature. One class of the Iris flower is linearly separable from the other two classes while the other two classes are not linearly separable from each other.\n",
    "\n",
    "The predicted attribute of the data set is the class of Iris plant. \n",
    "Therefore I will look at the statistics for the data set for each class or species."
   ]
  },
  {
   "cell_type": "markdown",
   "metadata": {},
   "source": [
    "<a name=\"groupbyclass\"></a>\n",
    "\n",
    "As mentioned earlier, Fisher's iris dataset is a well known data set in pattern recognition literature. One class / species of the three iris classes is linearly separable from the other two classes, which are not linearly separable from each other. \n",
    "Therefore I will now look at the different classes on their own. To do so, I will need to be able to separate the observations into three groups based on their known class.   \n",
    "\n",
    "`pandas` has a groupby function that can be used to group the data by a Series of columns. \n",
    "A `groupby` operation involves some combination of splitting the data into groups based on some criteria and applying a function to each group independently. \n",
    "I can do this to the iris data set and then look at the characteristics and statistics of each subset group. The observations will be grouped by Class or species of iris plant.\n",
    "\n",
    "(An alternative option would be to create subsets of the iris DataFrame for each class or species of Iris plant and then perform the operations on each subset dateFrames).\n",
    "\n",
    "[pandas groupby](http://pandas.pydata.org/pandas-docs/stable/user_guide/groupby.html)\n",
    "`group by` is a process involving one or more of the following steps:\n",
    "\n",
    "- First split the data into groups based on some criteria.\n",
    "Split the data into groups and then do something with the individual groups\n",
    "\n",
    "- Applying a function to each group independently.\n",
    "Aggregation function such as computing summary statistic for each group, group sums or means, group sizes and group counts\n",
    "Transformation function to perform some group-specific computations and return a like-indexed object. \n",
    "\n",
    "- Combining the results into a data structure.\n",
    "\n"
   ]
  },
  {
   "cell_type": "code",
   "execution_count": 112,
   "metadata": {},
   "outputs": [
    {
     "data": {
      "text/html": [
       "<div>\n",
       "<style scoped>\n",
       "    .dataframe tbody tr th:only-of-type {\n",
       "        vertical-align: middle;\n",
       "    }\n",
       "\n",
       "    .dataframe tbody tr th {\n",
       "        vertical-align: top;\n",
       "    }\n",
       "\n",
       "    .dataframe thead th {\n",
       "        text-align: right;\n",
       "    }\n",
       "</style>\n",
       "<table border=\"1\" class=\"dataframe\">\n",
       "  <thead>\n",
       "    <tr style=\"text-align: right;\">\n",
       "      <th></th>\n",
       "      <th>Sepal_Length</th>\n",
       "      <th>Sepal_Width</th>\n",
       "      <th>Petal_Length</th>\n",
       "      <th>Petal_Width</th>\n",
       "      <th>Class</th>\n",
       "    </tr>\n",
       "  </thead>\n",
       "  <tbody>\n",
       "    <tr>\n",
       "      <th>0</th>\n",
       "      <td>5.1</td>\n",
       "      <td>3.5</td>\n",
       "      <td>1.4</td>\n",
       "      <td>0.2</td>\n",
       "      <td>Iris-setosa</td>\n",
       "    </tr>\n",
       "    <tr>\n",
       "      <th>50</th>\n",
       "      <td>7.0</td>\n",
       "      <td>3.2</td>\n",
       "      <td>4.7</td>\n",
       "      <td>1.4</td>\n",
       "      <td>Iris-versicolor</td>\n",
       "    </tr>\n",
       "    <tr>\n",
       "      <th>100</th>\n",
       "      <td>6.3</td>\n",
       "      <td>3.3</td>\n",
       "      <td>6.0</td>\n",
       "      <td>2.5</td>\n",
       "      <td>Iris-virginica</td>\n",
       "    </tr>\n",
       "  </tbody>\n",
       "</table>\n",
       "</div>"
      ],
      "text/plain": [
       "     Sepal_Length  Sepal_Width  Petal_Length  Petal_Width            Class\n",
       "0             5.1          3.5           1.4          0.2      Iris-setosa\n",
       "50            7.0          3.2           4.7          1.4  Iris-versicolor\n",
       "100           6.3          3.3           6.0          2.5   Iris-virginica"
      ]
     },
     "execution_count": 112,
     "metadata": {},
     "output_type": "execute_result"
    }
   ],
   "source": [
    "\n",
    "iris.groupby('Class').head(1)"
   ]
  },
  {
   "cell_type": "code",
   "execution_count": 122,
   "metadata": {},
   "outputs": [
    {
     "data": {
      "text/html": [
       "<div>\n",
       "<style scoped>\n",
       "    .dataframe tbody tr th:only-of-type {\n",
       "        vertical-align: middle;\n",
       "    }\n",
       "\n",
       "    .dataframe tbody tr th {\n",
       "        vertical-align: top;\n",
       "    }\n",
       "\n",
       "    .dataframe thead th {\n",
       "        text-align: right;\n",
       "    }\n",
       "</style>\n",
       "<table border=\"1\" class=\"dataframe\">\n",
       "  <thead>\n",
       "    <tr style=\"text-align: right;\">\n",
       "      <th></th>\n",
       "      <th>Sepal_Length</th>\n",
       "      <th>Sepal_Width</th>\n",
       "      <th>Petal_Length</th>\n",
       "      <th>Petal_Width</th>\n",
       "    </tr>\n",
       "    <tr>\n",
       "      <th>Class</th>\n",
       "      <th></th>\n",
       "      <th></th>\n",
       "      <th></th>\n",
       "      <th></th>\n",
       "    </tr>\n",
       "  </thead>\n",
       "  <tbody>\n",
       "    <tr>\n",
       "      <th>Iris-setosa</th>\n",
       "      <td>50</td>\n",
       "      <td>50</td>\n",
       "      <td>50</td>\n",
       "      <td>50</td>\n",
       "    </tr>\n",
       "    <tr>\n",
       "      <th>Iris-versicolor</th>\n",
       "      <td>50</td>\n",
       "      <td>50</td>\n",
       "      <td>50</td>\n",
       "      <td>50</td>\n",
       "    </tr>\n",
       "    <tr>\n",
       "      <th>Iris-virginica</th>\n",
       "      <td>50</td>\n",
       "      <td>50</td>\n",
       "      <td>50</td>\n",
       "      <td>50</td>\n",
       "    </tr>\n",
       "  </tbody>\n",
       "</table>\n",
       "</div>"
      ],
      "text/plain": [
       "                 Sepal_Length  Sepal_Width  Petal_Length  Petal_Width\n",
       "Class                                                                \n",
       "Iris-setosa                50           50            50           50\n",
       "Iris-versicolor            50           50            50           50\n",
       "Iris-virginica             50           50            50           50"
      ]
     },
     "execution_count": 122,
     "metadata": {},
     "output_type": "execute_result"
    }
   ],
   "source": [
    "iris.groupby(\"Class\").count()\n"
   ]
  },
  {
   "cell_type": "code",
   "execution_count": 119,
   "metadata": {},
   "outputs": [
    {
     "data": {
      "text/html": [
       "<div>\n",
       "<style scoped>\n",
       "    .dataframe tbody tr th:only-of-type {\n",
       "        vertical-align: middle;\n",
       "    }\n",
       "\n",
       "    .dataframe tbody tr th {\n",
       "        vertical-align: top;\n",
       "    }\n",
       "\n",
       "    .dataframe thead th {\n",
       "        text-align: right;\n",
       "    }\n",
       "</style>\n",
       "<table border=\"1\" class=\"dataframe\">\n",
       "  <thead>\n",
       "    <tr style=\"text-align: right;\">\n",
       "      <th></th>\n",
       "      <th>Sepal_Length</th>\n",
       "      <th>Sepal_Width</th>\n",
       "      <th>Petal_Length</th>\n",
       "      <th>Petal_Width</th>\n",
       "    </tr>\n",
       "    <tr>\n",
       "      <th>Class</th>\n",
       "      <th></th>\n",
       "      <th></th>\n",
       "      <th></th>\n",
       "      <th></th>\n",
       "    </tr>\n",
       "  </thead>\n",
       "  <tbody>\n",
       "    <tr>\n",
       "      <th>Iris-setosa</th>\n",
       "      <td>5.006</td>\n",
       "      <td>3.418</td>\n",
       "      <td>1.464</td>\n",
       "      <td>0.244</td>\n",
       "    </tr>\n",
       "    <tr>\n",
       "      <th>Iris-versicolor</th>\n",
       "      <td>5.936</td>\n",
       "      <td>2.770</td>\n",
       "      <td>4.260</td>\n",
       "      <td>1.326</td>\n",
       "    </tr>\n",
       "    <tr>\n",
       "      <th>Iris-virginica</th>\n",
       "      <td>6.588</td>\n",
       "      <td>2.974</td>\n",
       "      <td>5.552</td>\n",
       "      <td>2.026</td>\n",
       "    </tr>\n",
       "  </tbody>\n",
       "</table>\n",
       "</div>"
      ],
      "text/plain": [
       "                 Sepal_Length  Sepal_Width  Petal_Length  Petal_Width\n",
       "Class                                                                \n",
       "Iris-setosa             5.006        3.418         1.464        0.244\n",
       "Iris-versicolor         5.936        2.770         4.260        1.326\n",
       "Iris-virginica          6.588        2.974         5.552        2.026"
      ]
     },
     "execution_count": 119,
     "metadata": {},
     "output_type": "execute_result"
    }
   ],
   "source": [
    "# Groupby Class and return the mean of the remaining columns in each group.\n",
    "iris.groupby('Class').mean()"
   ]
  },
  {
   "cell_type": "code",
   "execution_count": 125,
   "metadata": {},
   "outputs": [
    {
     "data": {
      "text/html": [
       "<div>\n",
       "<style scoped>\n",
       "    .dataframe tbody tr th:only-of-type {\n",
       "        vertical-align: middle;\n",
       "    }\n",
       "\n",
       "    .dataframe tbody tr th {\n",
       "        vertical-align: top;\n",
       "    }\n",
       "\n",
       "    .dataframe thead th {\n",
       "        text-align: right;\n",
       "    }\n",
       "</style>\n",
       "<table border=\"1\" class=\"dataframe\">\n",
       "  <thead>\n",
       "    <tr style=\"text-align: right;\">\n",
       "      <th></th>\n",
       "      <th>Sepal_Length</th>\n",
       "      <th>Sepal_Width</th>\n",
       "      <th>Petal_Length</th>\n",
       "      <th>Petal_Width</th>\n",
       "    </tr>\n",
       "    <tr>\n",
       "      <th>Class</th>\n",
       "      <th></th>\n",
       "      <th></th>\n",
       "      <th></th>\n",
       "      <th></th>\n",
       "    </tr>\n",
       "  </thead>\n",
       "  <tbody>\n",
       "    <tr>\n",
       "      <th>Iris-setosa</th>\n",
       "      <td>5.1</td>\n",
       "      <td>3.5</td>\n",
       "      <td>1.4</td>\n",
       "      <td>0.2</td>\n",
       "    </tr>\n",
       "    <tr>\n",
       "      <th>Iris-versicolor</th>\n",
       "      <td>7.0</td>\n",
       "      <td>3.2</td>\n",
       "      <td>4.7</td>\n",
       "      <td>1.4</td>\n",
       "    </tr>\n",
       "    <tr>\n",
       "      <th>Iris-virginica</th>\n",
       "      <td>6.3</td>\n",
       "      <td>3.3</td>\n",
       "      <td>6.0</td>\n",
       "      <td>2.5</td>\n",
       "    </tr>\n",
       "  </tbody>\n",
       "</table>\n",
       "</div>"
      ],
      "text/plain": [
       "                 Sepal_Length  Sepal_Width  Petal_Length  Petal_Width\n",
       "Class                                                                \n",
       "Iris-setosa               5.1          3.5           1.4          0.2\n",
       "Iris-versicolor           7.0          3.2           4.7          1.4\n",
       "Iris-virginica            6.3          3.3           6.0          2.5"
      ]
     },
     "execution_count": 125,
     "metadata": {},
     "output_type": "execute_result"
    }
   ],
   "source": [
    "# Group by class and then return the first observations in each group\n",
    "iris.groupby(\"Class\").first()"
   ]
  },
  {
   "cell_type": "code",
   "execution_count": 128,
   "metadata": {},
   "outputs": [
    {
     "data": {
      "text/html": [
       "<div>\n",
       "<style scoped>\n",
       "    .dataframe tbody tr th:only-of-type {\n",
       "        vertical-align: middle;\n",
       "    }\n",
       "\n",
       "    .dataframe tbody tr th {\n",
       "        vertical-align: top;\n",
       "    }\n",
       "\n",
       "    .dataframe thead th {\n",
       "        text-align: right;\n",
       "    }\n",
       "</style>\n",
       "<table border=\"1\" class=\"dataframe\">\n",
       "  <thead>\n",
       "    <tr style=\"text-align: right;\">\n",
       "      <th></th>\n",
       "      <th>Sepal_Length</th>\n",
       "      <th>Sepal_Width</th>\n",
       "      <th>Petal_Length</th>\n",
       "      <th>Petal_Width</th>\n",
       "    </tr>\n",
       "    <tr>\n",
       "      <th>Class</th>\n",
       "      <th></th>\n",
       "      <th></th>\n",
       "      <th></th>\n",
       "      <th></th>\n",
       "    </tr>\n",
       "  </thead>\n",
       "  <tbody>\n",
       "    <tr>\n",
       "      <th>Iris-setosa</th>\n",
       "      <td>5.0</td>\n",
       "      <td>3.3</td>\n",
       "      <td>1.4</td>\n",
       "      <td>0.2</td>\n",
       "    </tr>\n",
       "    <tr>\n",
       "      <th>Iris-versicolor</th>\n",
       "      <td>5.7</td>\n",
       "      <td>2.8</td>\n",
       "      <td>4.1</td>\n",
       "      <td>1.3</td>\n",
       "    </tr>\n",
       "    <tr>\n",
       "      <th>Iris-virginica</th>\n",
       "      <td>5.9</td>\n",
       "      <td>3.0</td>\n",
       "      <td>5.1</td>\n",
       "      <td>1.8</td>\n",
       "    </tr>\n",
       "  </tbody>\n",
       "</table>\n",
       "</div>"
      ],
      "text/plain": [
       "                 Sepal_Length  Sepal_Width  Petal_Length  Petal_Width\n",
       "Class                                                                \n",
       "Iris-setosa               5.0          3.3           1.4          0.2\n",
       "Iris-versicolor           5.7          2.8           4.1          1.3\n",
       "Iris-virginica            5.9          3.0           5.1          1.8"
      ]
     },
     "execution_count": 128,
     "metadata": {},
     "output_type": "execute_result"
    }
   ],
   "source": [
    "# Group by class and then return the last observations in each group\n",
    "iris.groupby(\"Class\").last()"
   ]
  },
  {
   "cell_type": "code",
   "execution_count": 133,
   "metadata": {},
   "outputs": [
    {
     "data": {
      "text/html": [
       "<div>\n",
       "<style scoped>\n",
       "    .dataframe tbody tr th:only-of-type {\n",
       "        vertical-align: middle;\n",
       "    }\n",
       "\n",
       "    .dataframe tbody tr th {\n",
       "        vertical-align: top;\n",
       "    }\n",
       "\n",
       "    .dataframe thead th {\n",
       "        text-align: right;\n",
       "    }\n",
       "</style>\n",
       "<table border=\"1\" class=\"dataframe\">\n",
       "  <thead>\n",
       "    <tr style=\"text-align: right;\">\n",
       "      <th></th>\n",
       "      <th>Sepal_Length</th>\n",
       "      <th>Sepal_Width</th>\n",
       "      <th>Petal_Length</th>\n",
       "      <th>Petal_Width</th>\n",
       "      <th>Class</th>\n",
       "    </tr>\n",
       "  </thead>\n",
       "  <tbody>\n",
       "    <tr>\n",
       "      <th>0</th>\n",
       "      <td>5.1</td>\n",
       "      <td>3.5</td>\n",
       "      <td>1.4</td>\n",
       "      <td>0.2</td>\n",
       "      <td>Iris-setosa</td>\n",
       "    </tr>\n",
       "    <tr>\n",
       "      <th>1</th>\n",
       "      <td>4.9</td>\n",
       "      <td>3.0</td>\n",
       "      <td>1.4</td>\n",
       "      <td>0.2</td>\n",
       "      <td>Iris-setosa</td>\n",
       "    </tr>\n",
       "    <tr>\n",
       "      <th>2</th>\n",
       "      <td>4.7</td>\n",
       "      <td>3.2</td>\n",
       "      <td>1.3</td>\n",
       "      <td>0.2</td>\n",
       "      <td>Iris-setosa</td>\n",
       "    </tr>\n",
       "    <tr>\n",
       "      <th>50</th>\n",
       "      <td>7.0</td>\n",
       "      <td>3.2</td>\n",
       "      <td>4.7</td>\n",
       "      <td>1.4</td>\n",
       "      <td>Iris-versicolor</td>\n",
       "    </tr>\n",
       "    <tr>\n",
       "      <th>51</th>\n",
       "      <td>6.4</td>\n",
       "      <td>3.2</td>\n",
       "      <td>4.5</td>\n",
       "      <td>1.5</td>\n",
       "      <td>Iris-versicolor</td>\n",
       "    </tr>\n",
       "    <tr>\n",
       "      <th>52</th>\n",
       "      <td>6.9</td>\n",
       "      <td>3.1</td>\n",
       "      <td>4.9</td>\n",
       "      <td>1.5</td>\n",
       "      <td>Iris-versicolor</td>\n",
       "    </tr>\n",
       "    <tr>\n",
       "      <th>100</th>\n",
       "      <td>6.3</td>\n",
       "      <td>3.3</td>\n",
       "      <td>6.0</td>\n",
       "      <td>2.5</td>\n",
       "      <td>Iris-virginica</td>\n",
       "    </tr>\n",
       "    <tr>\n",
       "      <th>101</th>\n",
       "      <td>5.8</td>\n",
       "      <td>2.7</td>\n",
       "      <td>5.1</td>\n",
       "      <td>1.9</td>\n",
       "      <td>Iris-virginica</td>\n",
       "    </tr>\n",
       "    <tr>\n",
       "      <th>102</th>\n",
       "      <td>7.1</td>\n",
       "      <td>3.0</td>\n",
       "      <td>5.9</td>\n",
       "      <td>2.1</td>\n",
       "      <td>Iris-virginica</td>\n",
       "    </tr>\n",
       "  </tbody>\n",
       "</table>\n",
       "</div>"
      ],
      "text/plain": [
       "     Sepal_Length  Sepal_Width  Petal_Length  Petal_Width            Class\n",
       "0             5.1          3.5           1.4          0.2      Iris-setosa\n",
       "1             4.9          3.0           1.4          0.2      Iris-setosa\n",
       "2             4.7          3.2           1.3          0.2      Iris-setosa\n",
       "50            7.0          3.2           4.7          1.4  Iris-versicolor\n",
       "51            6.4          3.2           4.5          1.5  Iris-versicolor\n",
       "52            6.9          3.1           4.9          1.5  Iris-versicolor\n",
       "100           6.3          3.3           6.0          2.5   Iris-virginica\n",
       "101           5.8          2.7           5.1          1.9   Iris-virginica\n",
       "102           7.1          3.0           5.9          2.1   Iris-virginica"
      ]
     },
     "execution_count": 133,
     "metadata": {},
     "output_type": "execute_result"
    }
   ],
   "source": [
    "# get the first 5 rows in each group\n",
    "iris.groupby(\"Class\").head(3)"
   ]
  },
  {
   "cell_type": "code",
   "execution_count": 136,
   "metadata": {},
   "outputs": [
    {
     "data": {
      "text/html": [
       "<div>\n",
       "<style scoped>\n",
       "    .dataframe tbody tr th:only-of-type {\n",
       "        vertical-align: middle;\n",
       "    }\n",
       "\n",
       "    .dataframe tbody tr th {\n",
       "        vertical-align: top;\n",
       "    }\n",
       "\n",
       "    .dataframe thead th {\n",
       "        text-align: right;\n",
       "    }\n",
       "</style>\n",
       "<table border=\"1\" class=\"dataframe\">\n",
       "  <thead>\n",
       "    <tr style=\"text-align: right;\">\n",
       "      <th></th>\n",
       "      <th>Sepal_Length</th>\n",
       "      <th>Sepal_Width</th>\n",
       "      <th>Petal_Length</th>\n",
       "      <th>Petal_Width</th>\n",
       "      <th>Class</th>\n",
       "    </tr>\n",
       "  </thead>\n",
       "  <tbody>\n",
       "    <tr>\n",
       "      <th>47</th>\n",
       "      <td>4.6</td>\n",
       "      <td>3.2</td>\n",
       "      <td>1.4</td>\n",
       "      <td>0.2</td>\n",
       "      <td>Iris-setosa</td>\n",
       "    </tr>\n",
       "    <tr>\n",
       "      <th>48</th>\n",
       "      <td>5.3</td>\n",
       "      <td>3.7</td>\n",
       "      <td>1.5</td>\n",
       "      <td>0.2</td>\n",
       "      <td>Iris-setosa</td>\n",
       "    </tr>\n",
       "    <tr>\n",
       "      <th>49</th>\n",
       "      <td>5.0</td>\n",
       "      <td>3.3</td>\n",
       "      <td>1.4</td>\n",
       "      <td>0.2</td>\n",
       "      <td>Iris-setosa</td>\n",
       "    </tr>\n",
       "    <tr>\n",
       "      <th>97</th>\n",
       "      <td>6.2</td>\n",
       "      <td>2.9</td>\n",
       "      <td>4.3</td>\n",
       "      <td>1.3</td>\n",
       "      <td>Iris-versicolor</td>\n",
       "    </tr>\n",
       "    <tr>\n",
       "      <th>98</th>\n",
       "      <td>5.1</td>\n",
       "      <td>2.5</td>\n",
       "      <td>3.0</td>\n",
       "      <td>1.1</td>\n",
       "      <td>Iris-versicolor</td>\n",
       "    </tr>\n",
       "    <tr>\n",
       "      <th>99</th>\n",
       "      <td>5.7</td>\n",
       "      <td>2.8</td>\n",
       "      <td>4.1</td>\n",
       "      <td>1.3</td>\n",
       "      <td>Iris-versicolor</td>\n",
       "    </tr>\n",
       "    <tr>\n",
       "      <th>147</th>\n",
       "      <td>6.5</td>\n",
       "      <td>3.0</td>\n",
       "      <td>5.2</td>\n",
       "      <td>2.0</td>\n",
       "      <td>Iris-virginica</td>\n",
       "    </tr>\n",
       "    <tr>\n",
       "      <th>148</th>\n",
       "      <td>6.2</td>\n",
       "      <td>3.4</td>\n",
       "      <td>5.4</td>\n",
       "      <td>2.3</td>\n",
       "      <td>Iris-virginica</td>\n",
       "    </tr>\n",
       "    <tr>\n",
       "      <th>149</th>\n",
       "      <td>5.9</td>\n",
       "      <td>3.0</td>\n",
       "      <td>5.1</td>\n",
       "      <td>1.8</td>\n",
       "      <td>Iris-virginica</td>\n",
       "    </tr>\n",
       "  </tbody>\n",
       "</table>\n",
       "</div>"
      ],
      "text/plain": [
       "     Sepal_Length  Sepal_Width  Petal_Length  Petal_Width            Class\n",
       "47            4.6          3.2           1.4          0.2      Iris-setosa\n",
       "48            5.3          3.7           1.5          0.2      Iris-setosa\n",
       "49            5.0          3.3           1.4          0.2      Iris-setosa\n",
       "97            6.2          2.9           4.3          1.3  Iris-versicolor\n",
       "98            5.1          2.5           3.0          1.1  Iris-versicolor\n",
       "99            5.7          2.8           4.1          1.3  Iris-versicolor\n",
       "147           6.5          3.0           5.2          2.0   Iris-virginica\n",
       "148           6.2          3.4           5.4          2.3   Iris-virginica\n",
       "149           5.9          3.0           5.1          1.8   Iris-virginica"
      ]
     },
     "execution_count": 136,
     "metadata": {},
     "output_type": "execute_result"
    }
   ],
   "source": [
    "# get the last 3 rows in each group\n",
    "iris.groupby(\"Class\").tail(3)"
   ]
  },
  {
   "cell_type": "markdown",
   "metadata": {},
   "source": [
    "GroupBy objects are returned by groupby calls: pandas.DataFrame.groupby(), pandas.Series.groupby(), etc."
   ]
  },
  {
   "cell_type": "code",
   "execution_count": 129,
   "metadata": {},
   "outputs": [
    {
     "data": {
      "text/html": [
       "<div>\n",
       "<style scoped>\n",
       "    .dataframe tbody tr th:only-of-type {\n",
       "        vertical-align: middle;\n",
       "    }\n",
       "\n",
       "    .dataframe tbody tr th {\n",
       "        vertical-align: top;\n",
       "    }\n",
       "\n",
       "    .dataframe thead th {\n",
       "        text-align: right;\n",
       "    }\n",
       "</style>\n",
       "<table border=\"1\" class=\"dataframe\">\n",
       "  <thead>\n",
       "    <tr style=\"text-align: right;\">\n",
       "      <th></th>\n",
       "      <th>Sepal_Length</th>\n",
       "      <th>Sepal_Width</th>\n",
       "      <th>Petal_Length</th>\n",
       "      <th>Petal_Width</th>\n",
       "    </tr>\n",
       "    <tr>\n",
       "      <th>Class</th>\n",
       "      <th></th>\n",
       "      <th></th>\n",
       "      <th></th>\n",
       "      <th></th>\n",
       "    </tr>\n",
       "  </thead>\n",
       "  <tbody>\n",
       "    <tr>\n",
       "      <th>Iris-setosa</th>\n",
       "      <td>5.8</td>\n",
       "      <td>4.4</td>\n",
       "      <td>1.9</td>\n",
       "      <td>0.6</td>\n",
       "    </tr>\n",
       "    <tr>\n",
       "      <th>Iris-versicolor</th>\n",
       "      <td>7.0</td>\n",
       "      <td>3.4</td>\n",
       "      <td>5.1</td>\n",
       "      <td>1.8</td>\n",
       "    </tr>\n",
       "    <tr>\n",
       "      <th>Iris-virginica</th>\n",
       "      <td>7.9</td>\n",
       "      <td>3.8</td>\n",
       "      <td>6.9</td>\n",
       "      <td>2.5</td>\n",
       "    </tr>\n",
       "  </tbody>\n",
       "</table>\n",
       "</div>"
      ],
      "text/plain": [
       "                 Sepal_Length  Sepal_Width  Petal_Length  Petal_Width\n",
       "Class                                                                \n",
       "Iris-setosa               5.8          4.4           1.9          0.6\n",
       "Iris-versicolor           7.0          3.4           5.1          1.8\n",
       "Iris-virginica            7.9          3.8           6.9          2.5"
      ]
     },
     "execution_count": 129,
     "metadata": {},
     "output_type": "execute_result"
    }
   ],
   "source": [
    "# get max of group values\n",
    "iris.groupby(\"Class\").max()"
   ]
  },
  {
   "cell_type": "code",
   "execution_count": 132,
   "metadata": {},
   "outputs": [
    {
     "data": {
      "text/html": [
       "<div>\n",
       "<style scoped>\n",
       "    .dataframe tbody tr th:only-of-type {\n",
       "        vertical-align: middle;\n",
       "    }\n",
       "\n",
       "    .dataframe tbody tr th {\n",
       "        vertical-align: top;\n",
       "    }\n",
       "\n",
       "    .dataframe thead th {\n",
       "        text-align: right;\n",
       "    }\n",
       "</style>\n",
       "<table border=\"1\" class=\"dataframe\">\n",
       "  <thead>\n",
       "    <tr style=\"text-align: right;\">\n",
       "      <th></th>\n",
       "      <th>Sepal_Length</th>\n",
       "      <th>Sepal_Width</th>\n",
       "      <th>Petal_Length</th>\n",
       "      <th>Petal_Width</th>\n",
       "    </tr>\n",
       "    <tr>\n",
       "      <th>Class</th>\n",
       "      <th></th>\n",
       "      <th></th>\n",
       "      <th></th>\n",
       "      <th></th>\n",
       "    </tr>\n",
       "  </thead>\n",
       "  <tbody>\n",
       "    <tr>\n",
       "      <th>Iris-setosa</th>\n",
       "      <td>4.3</td>\n",
       "      <td>2.3</td>\n",
       "      <td>1.0</td>\n",
       "      <td>0.1</td>\n",
       "    </tr>\n",
       "    <tr>\n",
       "      <th>Iris-versicolor</th>\n",
       "      <td>4.9</td>\n",
       "      <td>2.0</td>\n",
       "      <td>3.0</td>\n",
       "      <td>1.0</td>\n",
       "    </tr>\n",
       "    <tr>\n",
       "      <th>Iris-virginica</th>\n",
       "      <td>4.9</td>\n",
       "      <td>2.2</td>\n",
       "      <td>4.5</td>\n",
       "      <td>1.4</td>\n",
       "    </tr>\n",
       "  </tbody>\n",
       "</table>\n",
       "</div>"
      ],
      "text/plain": [
       "                 Sepal_Length  Sepal_Width  Petal_Length  Petal_Width\n",
       "Class                                                                \n",
       "Iris-setosa               4.3          2.3           1.0          0.1\n",
       "Iris-versicolor           4.9          2.0           3.0          1.0\n",
       "Iris-virginica            4.9          2.2           4.5          1.4"
      ]
     },
     "execution_count": 132,
     "metadata": {},
     "output_type": "execute_result"
    }
   ],
   "source": [
    "# get min of group values\n",
    "iris.groupby(\"Class\").min()"
   ]
  },
  {
   "cell_type": "code",
   "execution_count": 130,
   "metadata": {},
   "outputs": [
    {
     "data": {
      "text/html": [
       "<div>\n",
       "<style scoped>\n",
       "    .dataframe tbody tr th:only-of-type {\n",
       "        vertical-align: middle;\n",
       "    }\n",
       "\n",
       "    .dataframe tbody tr th {\n",
       "        vertical-align: top;\n",
       "    }\n",
       "\n",
       "    .dataframe thead th {\n",
       "        text-align: right;\n",
       "    }\n",
       "</style>\n",
       "<table border=\"1\" class=\"dataframe\">\n",
       "  <thead>\n",
       "    <tr style=\"text-align: right;\">\n",
       "      <th></th>\n",
       "      <th>Sepal_Length</th>\n",
       "      <th>Sepal_Width</th>\n",
       "      <th>Petal_Length</th>\n",
       "      <th>Petal_Width</th>\n",
       "    </tr>\n",
       "    <tr>\n",
       "      <th>Class</th>\n",
       "      <th></th>\n",
       "      <th></th>\n",
       "      <th></th>\n",
       "      <th></th>\n",
       "    </tr>\n",
       "  </thead>\n",
       "  <tbody>\n",
       "    <tr>\n",
       "      <th>Iris-setosa</th>\n",
       "      <td>5.006</td>\n",
       "      <td>3.418</td>\n",
       "      <td>1.464</td>\n",
       "      <td>0.244</td>\n",
       "    </tr>\n",
       "    <tr>\n",
       "      <th>Iris-versicolor</th>\n",
       "      <td>5.936</td>\n",
       "      <td>2.770</td>\n",
       "      <td>4.260</td>\n",
       "      <td>1.326</td>\n",
       "    </tr>\n",
       "    <tr>\n",
       "      <th>Iris-virginica</th>\n",
       "      <td>6.588</td>\n",
       "      <td>2.974</td>\n",
       "      <td>5.552</td>\n",
       "      <td>2.026</td>\n",
       "    </tr>\n",
       "  </tbody>\n",
       "</table>\n",
       "</div>"
      ],
      "text/plain": [
       "                 Sepal_Length  Sepal_Width  Petal_Length  Petal_Width\n",
       "Class                                                                \n",
       "Iris-setosa             5.006        3.418         1.464        0.244\n",
       "Iris-versicolor         5.936        2.770         4.260        1.326\n",
       "Iris-virginica          6.588        2.974         5.552        2.026"
      ]
     },
     "execution_count": 130,
     "metadata": {},
     "output_type": "execute_result"
    }
   ],
   "source": [
    "# get mean of group values\n",
    "iris.groupby(\"Class\").mean()"
   ]
  },
  {
   "cell_type": "code",
   "execution_count": 131,
   "metadata": {},
   "outputs": [
    {
     "data": {
      "text/html": [
       "<div>\n",
       "<style scoped>\n",
       "    .dataframe tbody tr th:only-of-type {\n",
       "        vertical-align: middle;\n",
       "    }\n",
       "\n",
       "    .dataframe tbody tr th {\n",
       "        vertical-align: top;\n",
       "    }\n",
       "\n",
       "    .dataframe thead th {\n",
       "        text-align: right;\n",
       "    }\n",
       "</style>\n",
       "<table border=\"1\" class=\"dataframe\">\n",
       "  <thead>\n",
       "    <tr style=\"text-align: right;\">\n",
       "      <th></th>\n",
       "      <th>Sepal_Length</th>\n",
       "      <th>Sepal_Width</th>\n",
       "      <th>Petal_Length</th>\n",
       "      <th>Petal_Width</th>\n",
       "    </tr>\n",
       "    <tr>\n",
       "      <th>Class</th>\n",
       "      <th></th>\n",
       "      <th></th>\n",
       "      <th></th>\n",
       "      <th></th>\n",
       "    </tr>\n",
       "  </thead>\n",
       "  <tbody>\n",
       "    <tr>\n",
       "      <th>Iris-setosa</th>\n",
       "      <td>5.0</td>\n",
       "      <td>3.4</td>\n",
       "      <td>1.50</td>\n",
       "      <td>0.2</td>\n",
       "    </tr>\n",
       "    <tr>\n",
       "      <th>Iris-versicolor</th>\n",
       "      <td>5.9</td>\n",
       "      <td>2.8</td>\n",
       "      <td>4.35</td>\n",
       "      <td>1.3</td>\n",
       "    </tr>\n",
       "    <tr>\n",
       "      <th>Iris-virginica</th>\n",
       "      <td>6.5</td>\n",
       "      <td>3.0</td>\n",
       "      <td>5.55</td>\n",
       "      <td>2.0</td>\n",
       "    </tr>\n",
       "  </tbody>\n",
       "</table>\n",
       "</div>"
      ],
      "text/plain": [
       "                 Sepal_Length  Sepal_Width  Petal_Length  Petal_Width\n",
       "Class                                                                \n",
       "Iris-setosa               5.0          3.4          1.50          0.2\n",
       "Iris-versicolor           5.9          2.8          4.35          1.3\n",
       "Iris-virginica            6.5          3.0          5.55          2.0"
      ]
     },
     "execution_count": 131,
     "metadata": {},
     "output_type": "execute_result"
    }
   ],
   "source": [
    "# get median of group values\n",
    "iris.groupby(\"Class\").median()"
   ]
  },
  {
   "cell_type": "code",
   "execution_count": 134,
   "metadata": {},
   "outputs": [
    {
     "data": {
      "text/html": [
       "<div>\n",
       "<style scoped>\n",
       "    .dataframe tbody tr th:only-of-type {\n",
       "        vertical-align: middle;\n",
       "    }\n",
       "\n",
       "    .dataframe tbody tr th {\n",
       "        vertical-align: top;\n",
       "    }\n",
       "\n",
       "    .dataframe thead th {\n",
       "        text-align: right;\n",
       "    }\n",
       "</style>\n",
       "<table border=\"1\" class=\"dataframe\">\n",
       "  <thead>\n",
       "    <tr style=\"text-align: right;\">\n",
       "      <th></th>\n",
       "      <th>Sepal_Length</th>\n",
       "      <th>Sepal_Width</th>\n",
       "      <th>Petal_Length</th>\n",
       "      <th>Petal_Width</th>\n",
       "    </tr>\n",
       "    <tr>\n",
       "      <th>Class</th>\n",
       "      <th></th>\n",
       "      <th></th>\n",
       "      <th></th>\n",
       "      <th></th>\n",
       "    </tr>\n",
       "  </thead>\n",
       "  <tbody>\n",
       "    <tr>\n",
       "      <th>Iris-setosa</th>\n",
       "      <td>0.352490</td>\n",
       "      <td>0.381024</td>\n",
       "      <td>0.173511</td>\n",
       "      <td>0.107210</td>\n",
       "    </tr>\n",
       "    <tr>\n",
       "      <th>Iris-versicolor</th>\n",
       "      <td>0.516171</td>\n",
       "      <td>0.313798</td>\n",
       "      <td>0.469911</td>\n",
       "      <td>0.197753</td>\n",
       "    </tr>\n",
       "    <tr>\n",
       "      <th>Iris-virginica</th>\n",
       "      <td>0.635880</td>\n",
       "      <td>0.322497</td>\n",
       "      <td>0.551895</td>\n",
       "      <td>0.274650</td>\n",
       "    </tr>\n",
       "  </tbody>\n",
       "</table>\n",
       "</div>"
      ],
      "text/plain": [
       "                 Sepal_Length  Sepal_Width  Petal_Length  Petal_Width\n",
       "Class                                                                \n",
       "Iris-setosa          0.352490     0.381024      0.173511     0.107210\n",
       "Iris-versicolor      0.516171     0.313798      0.469911     0.197753\n",
       "Iris-virginica       0.635880     0.322497      0.551895     0.274650"
      ]
     },
     "execution_count": 134,
     "metadata": {},
     "output_type": "execute_result"
    }
   ],
   "source": [
    "# get standard deviation of group values\n",
    "iris.groupby(\"Class\").std()"
   ]
  },
  {
   "cell_type": "code",
   "execution_count": 135,
   "metadata": {},
   "outputs": [
    {
     "data": {
      "text/html": [
       "<div>\n",
       "<style scoped>\n",
       "    .dataframe tbody tr th:only-of-type {\n",
       "        vertical-align: middle;\n",
       "    }\n",
       "\n",
       "    .dataframe tbody tr th {\n",
       "        vertical-align: top;\n",
       "    }\n",
       "\n",
       "    .dataframe thead th {\n",
       "        text-align: right;\n",
       "    }\n",
       "</style>\n",
       "<table border=\"1\" class=\"dataframe\">\n",
       "  <thead>\n",
       "    <tr style=\"text-align: right;\">\n",
       "      <th></th>\n",
       "      <th>Sepal_Length</th>\n",
       "      <th>Sepal_Width</th>\n",
       "      <th>Petal_Length</th>\n",
       "      <th>Petal_Width</th>\n",
       "    </tr>\n",
       "    <tr>\n",
       "      <th>Class</th>\n",
       "      <th></th>\n",
       "      <th></th>\n",
       "      <th></th>\n",
       "      <th></th>\n",
       "    </tr>\n",
       "  </thead>\n",
       "  <tbody>\n",
       "    <tr>\n",
       "      <th>Iris-setosa</th>\n",
       "      <td>0.124249</td>\n",
       "      <td>0.145180</td>\n",
       "      <td>0.030106</td>\n",
       "      <td>0.011494</td>\n",
       "    </tr>\n",
       "    <tr>\n",
       "      <th>Iris-versicolor</th>\n",
       "      <td>0.266433</td>\n",
       "      <td>0.098469</td>\n",
       "      <td>0.220816</td>\n",
       "      <td>0.039106</td>\n",
       "    </tr>\n",
       "    <tr>\n",
       "      <th>Iris-virginica</th>\n",
       "      <td>0.404343</td>\n",
       "      <td>0.104004</td>\n",
       "      <td>0.304588</td>\n",
       "      <td>0.075433</td>\n",
       "    </tr>\n",
       "  </tbody>\n",
       "</table>\n",
       "</div>"
      ],
      "text/plain": [
       "                 Sepal_Length  Sepal_Width  Petal_Length  Petal_Width\n",
       "Class                                                                \n",
       "Iris-setosa          0.124249     0.145180      0.030106     0.011494\n",
       "Iris-versicolor      0.266433     0.098469      0.220816     0.039106\n",
       "Iris-virginica       0.404343     0.104004      0.304588     0.075433"
      ]
     },
     "execution_count": 135,
     "metadata": {},
     "output_type": "execute_result"
    }
   ],
   "source": [
    "# get variance of group values\n",
    "iris.groupby(\"Class\").var()"
   ]
  },
  {
   "cell_type": "code",
   "execution_count": 114,
   "metadata": {},
   "outputs": [
    {
     "name": "stdout",
     "output_type": "stream",
     "text": [
      "                 Sepal_Length  Sepal_Width  Petal_Length  Petal_Width\n",
      "Class                                                                \n",
      "Iris-setosa                50           50            50           50\n",
      "Iris-versicolor            50           50            50           50\n",
      "Iris-virginica             50           50            50           50\n"
     ]
    }
   ],
   "source": [
    "# Using groupby functions to look at statistics at the class / species level\n",
    "iris_grouped = iris.groupby(\"Class\")\n",
    "\n",
    "print(iris_grouped.count())"
   ]
  },
  {
   "cell_type": "markdown",
   "metadata": {},
   "source": [
    "http://pandas.pydata.org/pandas-docs/stable/reference/api/pandas.core.groupby.DataFrameGroupBy.diff.html#pandas.core.groupby.DataFrameGroupBy.diff\n",
    "\n",
    "I will be able to use this to get the difference in the means when I have a dataframe with columns of the means.\n",
    "This instead of manually taking the difference as I did before!"
   ]
  },
  {
   "cell_type": "markdown",
   "metadata": {},
   "source": [
    "# THIS IS WHERE I AM!"
   ]
  },
  {
   "cell_type": "code",
   "execution_count": 138,
   "metadata": {},
   "outputs": [
    {
     "name": "stdout",
     "output_type": "stream",
     "text": [
      "                 Sepal_Length  Sepal_Width  Petal_Length  Petal_Width\n",
      "Class                                                                \n",
      "Iris-setosa             5.006        3.418         1.464        0.244\n",
      "Iris-versicolor         5.936        2.770         4.260        1.326\n",
      "Iris-virginica          6.588        2.974         5.552        2.026\n"
     ]
    }
   ],
   "source": [
    "print(iris_grouped.mean())"
   ]
  },
  {
   "cell_type": "code",
   "execution_count": 19,
   "metadata": {},
   "outputs": [
    {
     "name": "stdout",
     "output_type": "stream",
     "text": [
      "                Sepal_Length                                              \\\n",
      "                       count   mean       std  min    25%  50%  75%  max   \n",
      "Class                                                                      \n",
      "Iris-setosa             50.0  5.006  0.352490  4.3  4.800  5.0  5.2  5.8   \n",
      "Iris-versicolor         50.0  5.936  0.516171  4.9  5.600  5.9  6.3  7.0   \n",
      "Iris-virginica          50.0  6.588  0.635880  4.9  6.225  6.5  6.9  7.9   \n",
      "\n",
      "                Sepal_Width         ... Petal_Length      Petal_Width         \\\n",
      "                      count   mean  ...          75%  max       count   mean   \n",
      "Class                               ...                                        \n",
      "Iris-setosa            50.0  3.418  ...        1.575  1.9        50.0  0.244   \n",
      "Iris-versicolor        50.0  2.770  ...        4.600  5.1        50.0  1.326   \n",
      "Iris-virginica         50.0  2.974  ...        5.875  6.9        50.0  2.026   \n",
      "\n",
      "                                                    \n",
      "                      std  min  25%  50%  75%  max  \n",
      "Class                                               \n",
      "Iris-setosa      0.107210  0.1  0.2  0.2  0.3  0.6  \n",
      "Iris-versicolor  0.197753  1.0  1.2  1.3  1.5  1.8  \n",
      "Iris-virginica   0.274650  1.4  1.8  2.0  2.3  2.5  \n",
      "\n",
      "[3 rows x 32 columns]\n"
     ]
    },
    {
     "data": {
      "text/html": [
       "<div>\n",
       "<style scoped>\n",
       "    .dataframe tbody tr th:only-of-type {\n",
       "        vertical-align: middle;\n",
       "    }\n",
       "\n",
       "    .dataframe tbody tr th {\n",
       "        vertical-align: top;\n",
       "    }\n",
       "\n",
       "    .dataframe thead th {\n",
       "        text-align: right;\n",
       "    }\n",
       "</style>\n",
       "<table border=\"1\" class=\"dataframe\">\n",
       "  <thead>\n",
       "    <tr style=\"text-align: right;\">\n",
       "      <th></th>\n",
       "      <th>Class</th>\n",
       "      <th>Iris-setosa</th>\n",
       "      <th>Iris-versicolor</th>\n",
       "      <th>Iris-virginica</th>\n",
       "    </tr>\n",
       "  </thead>\n",
       "  <tbody>\n",
       "    <tr>\n",
       "      <th rowspan=\"8\" valign=\"top\">Sepal_Length</th>\n",
       "      <th>count</th>\n",
       "      <td>50.000000</td>\n",
       "      <td>50.000000</td>\n",
       "      <td>50.000000</td>\n",
       "    </tr>\n",
       "    <tr>\n",
       "      <th>mean</th>\n",
       "      <td>5.006000</td>\n",
       "      <td>5.936000</td>\n",
       "      <td>6.588000</td>\n",
       "    </tr>\n",
       "    <tr>\n",
       "      <th>std</th>\n",
       "      <td>0.352490</td>\n",
       "      <td>0.516171</td>\n",
       "      <td>0.635880</td>\n",
       "    </tr>\n",
       "    <tr>\n",
       "      <th>min</th>\n",
       "      <td>4.300000</td>\n",
       "      <td>4.900000</td>\n",
       "      <td>4.900000</td>\n",
       "    </tr>\n",
       "    <tr>\n",
       "      <th>25%</th>\n",
       "      <td>4.800000</td>\n",
       "      <td>5.600000</td>\n",
       "      <td>6.225000</td>\n",
       "    </tr>\n",
       "    <tr>\n",
       "      <th>50%</th>\n",
       "      <td>5.000000</td>\n",
       "      <td>5.900000</td>\n",
       "      <td>6.500000</td>\n",
       "    </tr>\n",
       "    <tr>\n",
       "      <th>75%</th>\n",
       "      <td>5.200000</td>\n",
       "      <td>6.300000</td>\n",
       "      <td>6.900000</td>\n",
       "    </tr>\n",
       "    <tr>\n",
       "      <th>max</th>\n",
       "      <td>5.800000</td>\n",
       "      <td>7.000000</td>\n",
       "      <td>7.900000</td>\n",
       "    </tr>\n",
       "    <tr>\n",
       "      <th rowspan=\"8\" valign=\"top\">Sepal_Width</th>\n",
       "      <th>count</th>\n",
       "      <td>50.000000</td>\n",
       "      <td>50.000000</td>\n",
       "      <td>50.000000</td>\n",
       "    </tr>\n",
       "    <tr>\n",
       "      <th>mean</th>\n",
       "      <td>3.418000</td>\n",
       "      <td>2.770000</td>\n",
       "      <td>2.974000</td>\n",
       "    </tr>\n",
       "    <tr>\n",
       "      <th>std</th>\n",
       "      <td>0.381024</td>\n",
       "      <td>0.313798</td>\n",
       "      <td>0.322497</td>\n",
       "    </tr>\n",
       "    <tr>\n",
       "      <th>min</th>\n",
       "      <td>2.300000</td>\n",
       "      <td>2.000000</td>\n",
       "      <td>2.200000</td>\n",
       "    </tr>\n",
       "    <tr>\n",
       "      <th>25%</th>\n",
       "      <td>3.125000</td>\n",
       "      <td>2.525000</td>\n",
       "      <td>2.800000</td>\n",
       "    </tr>\n",
       "    <tr>\n",
       "      <th>50%</th>\n",
       "      <td>3.400000</td>\n",
       "      <td>2.800000</td>\n",
       "      <td>3.000000</td>\n",
       "    </tr>\n",
       "    <tr>\n",
       "      <th>75%</th>\n",
       "      <td>3.675000</td>\n",
       "      <td>3.000000</td>\n",
       "      <td>3.175000</td>\n",
       "    </tr>\n",
       "    <tr>\n",
       "      <th>max</th>\n",
       "      <td>4.400000</td>\n",
       "      <td>3.400000</td>\n",
       "      <td>3.800000</td>\n",
       "    </tr>\n",
       "    <tr>\n",
       "      <th rowspan=\"8\" valign=\"top\">Petal_Length</th>\n",
       "      <th>count</th>\n",
       "      <td>50.000000</td>\n",
       "      <td>50.000000</td>\n",
       "      <td>50.000000</td>\n",
       "    </tr>\n",
       "    <tr>\n",
       "      <th>mean</th>\n",
       "      <td>1.464000</td>\n",
       "      <td>4.260000</td>\n",
       "      <td>5.552000</td>\n",
       "    </tr>\n",
       "    <tr>\n",
       "      <th>std</th>\n",
       "      <td>0.173511</td>\n",
       "      <td>0.469911</td>\n",
       "      <td>0.551895</td>\n",
       "    </tr>\n",
       "    <tr>\n",
       "      <th>min</th>\n",
       "      <td>1.000000</td>\n",
       "      <td>3.000000</td>\n",
       "      <td>4.500000</td>\n",
       "    </tr>\n",
       "    <tr>\n",
       "      <th>25%</th>\n",
       "      <td>1.400000</td>\n",
       "      <td>4.000000</td>\n",
       "      <td>5.100000</td>\n",
       "    </tr>\n",
       "    <tr>\n",
       "      <th>50%</th>\n",
       "      <td>1.500000</td>\n",
       "      <td>4.350000</td>\n",
       "      <td>5.550000</td>\n",
       "    </tr>\n",
       "    <tr>\n",
       "      <th>75%</th>\n",
       "      <td>1.575000</td>\n",
       "      <td>4.600000</td>\n",
       "      <td>5.875000</td>\n",
       "    </tr>\n",
       "    <tr>\n",
       "      <th>max</th>\n",
       "      <td>1.900000</td>\n",
       "      <td>5.100000</td>\n",
       "      <td>6.900000</td>\n",
       "    </tr>\n",
       "    <tr>\n",
       "      <th rowspan=\"8\" valign=\"top\">Petal_Width</th>\n",
       "      <th>count</th>\n",
       "      <td>50.000000</td>\n",
       "      <td>50.000000</td>\n",
       "      <td>50.000000</td>\n",
       "    </tr>\n",
       "    <tr>\n",
       "      <th>mean</th>\n",
       "      <td>0.244000</td>\n",
       "      <td>1.326000</td>\n",
       "      <td>2.026000</td>\n",
       "    </tr>\n",
       "    <tr>\n",
       "      <th>std</th>\n",
       "      <td>0.107210</td>\n",
       "      <td>0.197753</td>\n",
       "      <td>0.274650</td>\n",
       "    </tr>\n",
       "    <tr>\n",
       "      <th>min</th>\n",
       "      <td>0.100000</td>\n",
       "      <td>1.000000</td>\n",
       "      <td>1.400000</td>\n",
       "    </tr>\n",
       "    <tr>\n",
       "      <th>25%</th>\n",
       "      <td>0.200000</td>\n",
       "      <td>1.200000</td>\n",
       "      <td>1.800000</td>\n",
       "    </tr>\n",
       "    <tr>\n",
       "      <th>50%</th>\n",
       "      <td>0.200000</td>\n",
       "      <td>1.300000</td>\n",
       "      <td>2.000000</td>\n",
       "    </tr>\n",
       "    <tr>\n",
       "      <th>75%</th>\n",
       "      <td>0.300000</td>\n",
       "      <td>1.500000</td>\n",
       "      <td>2.300000</td>\n",
       "    </tr>\n",
       "    <tr>\n",
       "      <th>max</th>\n",
       "      <td>0.600000</td>\n",
       "      <td>1.800000</td>\n",
       "      <td>2.500000</td>\n",
       "    </tr>\n",
       "  </tbody>\n",
       "</table>\n",
       "</div>"
      ],
      "text/plain": [
       "Class               Iris-setosa  Iris-versicolor  Iris-virginica\n",
       "Sepal_Length count    50.000000        50.000000       50.000000\n",
       "             mean      5.006000         5.936000        6.588000\n",
       "             std       0.352490         0.516171        0.635880\n",
       "             min       4.300000         4.900000        4.900000\n",
       "             25%       4.800000         5.600000        6.225000\n",
       "             50%       5.000000         5.900000        6.500000\n",
       "             75%       5.200000         6.300000        6.900000\n",
       "             max       5.800000         7.000000        7.900000\n",
       "Sepal_Width  count    50.000000        50.000000       50.000000\n",
       "             mean      3.418000         2.770000        2.974000\n",
       "             std       0.381024         0.313798        0.322497\n",
       "             min       2.300000         2.000000        2.200000\n",
       "             25%       3.125000         2.525000        2.800000\n",
       "             50%       3.400000         2.800000        3.000000\n",
       "             75%       3.675000         3.000000        3.175000\n",
       "             max       4.400000         3.400000        3.800000\n",
       "Petal_Length count    50.000000        50.000000       50.000000\n",
       "             mean      1.464000         4.260000        5.552000\n",
       "             std       0.173511         0.469911        0.551895\n",
       "             min       1.000000         3.000000        4.500000\n",
       "             25%       1.400000         4.000000        5.100000\n",
       "             50%       1.500000         4.350000        5.550000\n",
       "             75%       1.575000         4.600000        5.875000\n",
       "             max       1.900000         5.100000        6.900000\n",
       "Petal_Width  count    50.000000        50.000000       50.000000\n",
       "             mean      0.244000         1.326000        2.026000\n",
       "             std       0.107210         0.197753        0.274650\n",
       "             min       0.100000         1.000000        1.400000\n",
       "             25%       0.200000         1.200000        1.800000\n",
       "             50%       0.200000         1.300000        2.000000\n",
       "             75%       0.300000         1.500000        2.300000\n",
       "             max       0.600000         1.800000        2.500000"
      ]
     },
     "execution_count": 19,
     "metadata": {},
     "output_type": "execute_result"
    }
   ],
   "source": [
    "# now looking at the summary statistics for each class of Iris in the data set.\n",
    "# I transposed the results to make it easier to read.\n",
    "print(iris_grouped.describe())\n",
    "iris_grouped.describe().T"
   ]
  },
  {
   "cell_type": "code",
   "execution_count": 102,
   "metadata": {},
   "outputs": [],
   "source": [
    "#help(pd.DataFrame.describe)"
   ]
  },
  {
   "cell_type": "markdown",
   "metadata": {},
   "source": [
    "### Summary Stats\n",
    "Interpreting Summary Statistics of the Iris data set\n",
    "The pandas `describe` function shows the count number of the non-NA/null observations in the dataset. There are 50 observations in each class. The `max` shows the maximum of the values and the `min` shows the minimum of the values. The `mean` shows the mean of the values, the `std` shows the standard deviation of the observations. The `describe` function also shows the 25th, 50th and 75th percentiles. The 25th percentile shows the percentage of values falling below that percentile. The 50th percentile shows the same information as the median would, that is where 50% of the values fall above and 50% fall below the value.\n"
   ]
  },
  {
   "cell_type": "markdown",
   "metadata": {},
   "source": [
    "The statistics at the class level show that the average petal length for a Setosa is much smaller at 1.464 cm than the other two classes. The average petal length for the Versicolor is 4.26 while the iris Virginica has the largest average petal length of 5.552 centimetres which is almost four times greater than the petal length of the Iris Setosa.\n",
    "The standard deviation of the setosa petal length is quite small compared to the standard deviation of the other two species. The petal measurements of the iris setosa is much less variable than that of the other two species. \n",
    "\n",
    "The average petal width of the setosa is also much smaller than the average petal width of the other two species. In fact the petal width of the setosa is twelve times smaller than the petal width of the virginica. There is less variability in petal widths in all three species though compared to the variability in the petal length.\n",
    "There is not such a large difference between the sepal lengths of the three iris species, although the setosa is again showing the smallest average measurements.\n",
    "The average sepal width of the setosa however is actually larger than the averages for the other two species. The average sepal width for the setosa is 3.42 centimetres compared to an average of 2.77 cm for the Versicolor and 2.97 for the virginica. This is also shown in the minimum and maximum measurements for the three species.\n",
    "\n",
    "From the summary statistics of the sepal and petal measurements by class type it would seem that the iris setosa is very different from the other two species, the versicolor and the virginica."
   ]
  },
  {
   "cell_type": "code",
   "execution_count": 155,
   "metadata": {},
   "outputs": [
    {
     "data": {
      "text/html": [
       "<div>\n",
       "<style scoped>\n",
       "    .dataframe tbody tr th:only-of-type {\n",
       "        vertical-align: middle;\n",
       "    }\n",
       "\n",
       "    .dataframe tbody tr th {\n",
       "        vertical-align: top;\n",
       "    }\n",
       "\n",
       "    .dataframe thead th {\n",
       "        text-align: right;\n",
       "    }\n",
       "</style>\n",
       "<table border=\"1\" class=\"dataframe\">\n",
       "  <thead>\n",
       "    <tr style=\"text-align: right;\">\n",
       "      <th>Class</th>\n",
       "      <th>Iris-setosa</th>\n",
       "      <th>Iris-versicolor</th>\n",
       "      <th>Iris-virginica</th>\n",
       "    </tr>\n",
       "  </thead>\n",
       "  <tbody>\n",
       "    <tr>\n",
       "      <th>Sepal_Length</th>\n",
       "      <td>5.006</td>\n",
       "      <td>5.936</td>\n",
       "      <td>6.588</td>\n",
       "    </tr>\n",
       "    <tr>\n",
       "      <th>Sepal_Width</th>\n",
       "      <td>3.418</td>\n",
       "      <td>2.770</td>\n",
       "      <td>2.974</td>\n",
       "    </tr>\n",
       "    <tr>\n",
       "      <th>Petal_Length</th>\n",
       "      <td>1.464</td>\n",
       "      <td>4.260</td>\n",
       "      <td>5.552</td>\n",
       "    </tr>\n",
       "    <tr>\n",
       "      <th>Petal_Width</th>\n",
       "      <td>0.244</td>\n",
       "      <td>1.326</td>\n",
       "      <td>2.026</td>\n",
       "    </tr>\n",
       "  </tbody>\n",
       "</table>\n",
       "</div>"
      ],
      "text/plain": [
       "Class         Iris-setosa  Iris-versicolor  Iris-virginica\n",
       "Sepal_Length        5.006            5.936           6.588\n",
       "Sepal_Width         3.418            2.770           2.974\n",
       "Petal_Length        1.464            4.260           5.552\n",
       "Petal_Width         0.244            1.326           2.026"
      ]
     },
     "execution_count": 155,
     "metadata": {},
     "output_type": "execute_result"
    }
   ],
   "source": [
    "# Using the mean function to see the average measurements by species.\n",
    "iris_means =iris_grouped.mean()\n",
    "iris_means.T"
   ]
  },
  {
   "cell_type": "code",
   "execution_count": 154,
   "metadata": {},
   "outputs": [
    {
     "data": {
      "text/html": [
       "<div>\n",
       "<style scoped>\n",
       "    .dataframe tbody tr th:only-of-type {\n",
       "        vertical-align: middle;\n",
       "    }\n",
       "\n",
       "    .dataframe tbody tr th {\n",
       "        vertical-align: top;\n",
       "    }\n",
       "\n",
       "    .dataframe thead th {\n",
       "        text-align: right;\n",
       "    }\n",
       "</style>\n",
       "<table border=\"1\" class=\"dataframe\">\n",
       "  <thead>\n",
       "    <tr style=\"text-align: right;\">\n",
       "      <th></th>\n",
       "      <th>Sepal_Length</th>\n",
       "      <th>Sepal_Width</th>\n",
       "      <th>Petal_Length</th>\n",
       "      <th>Petal_Width</th>\n",
       "    </tr>\n",
       "    <tr>\n",
       "      <th>Class</th>\n",
       "      <th></th>\n",
       "      <th></th>\n",
       "      <th></th>\n",
       "      <th></th>\n",
       "    </tr>\n",
       "  </thead>\n",
       "  <tbody>\n",
       "    <tr>\n",
       "      <th>Iris-setosa</th>\n",
       "      <td>NaN</td>\n",
       "      <td>NaN</td>\n",
       "      <td>NaN</td>\n",
       "      <td>NaN</td>\n",
       "    </tr>\n",
       "    <tr>\n",
       "      <th>Iris-versicolor</th>\n",
       "      <td>0.930</td>\n",
       "      <td>-0.648</td>\n",
       "      <td>2.796</td>\n",
       "      <td>1.082</td>\n",
       "    </tr>\n",
       "    <tr>\n",
       "      <th>Iris-virginica</th>\n",
       "      <td>0.652</td>\n",
       "      <td>0.204</td>\n",
       "      <td>1.292</td>\n",
       "      <td>0.700</td>\n",
       "    </tr>\n",
       "  </tbody>\n",
       "</table>\n",
       "</div>"
      ],
      "text/plain": [
       "                 Sepal_Length  Sepal_Width  Petal_Length  Petal_Width\n",
       "Class                                                                \n",
       "Iris-setosa               NaN          NaN           NaN          NaN\n",
       "Iris-versicolor         0.930       -0.648         2.796        1.082\n",
       "Iris-virginica          0.652        0.204         1.292        0.700"
      ]
     },
     "execution_count": 154,
     "metadata": {},
     "output_type": "execute_result"
    }
   ],
   "source": [
    "# Calculates the difference of a DataFrame element compared with another element in the DataFrame (default is the element in the same column of the previous row).\n",
    "# axis = 1 to get the differences by previous columns\n",
    "iris_means.diff()"
   ]
  },
  {
   "cell_type": "code",
   "execution_count": 22,
   "metadata": {},
   "outputs": [
    {
     "data": {
      "text/html": [
       "<div>\n",
       "<style scoped>\n",
       "    .dataframe tbody tr th:only-of-type {\n",
       "        vertical-align: middle;\n",
       "    }\n",
       "\n",
       "    .dataframe tbody tr th {\n",
       "        vertical-align: top;\n",
       "    }\n",
       "\n",
       "    .dataframe thead th {\n",
       "        text-align: right;\n",
       "    }\n",
       "</style>\n",
       "<table border=\"1\" class=\"dataframe\">\n",
       "  <thead>\n",
       "    <tr style=\"text-align: right;\">\n",
       "      <th></th>\n",
       "      <th>Sepal_Length</th>\n",
       "      <th>Sepal_Width</th>\n",
       "      <th>Petal_Length</th>\n",
       "      <th>Petal_Width</th>\n",
       "    </tr>\n",
       "    <tr>\n",
       "      <th>Class</th>\n",
       "      <th></th>\n",
       "      <th></th>\n",
       "      <th></th>\n",
       "      <th></th>\n",
       "    </tr>\n",
       "  </thead>\n",
       "  <tbody>\n",
       "    <tr>\n",
       "      <th>Iris-setosa</th>\n",
       "      <td>5.0</td>\n",
       "      <td>3.4</td>\n",
       "      <td>1.50</td>\n",
       "      <td>0.2</td>\n",
       "    </tr>\n",
       "    <tr>\n",
       "      <th>Iris-versicolor</th>\n",
       "      <td>5.9</td>\n",
       "      <td>2.8</td>\n",
       "      <td>4.35</td>\n",
       "      <td>1.3</td>\n",
       "    </tr>\n",
       "    <tr>\n",
       "      <th>Iris-virginica</th>\n",
       "      <td>6.5</td>\n",
       "      <td>3.0</td>\n",
       "      <td>5.55</td>\n",
       "      <td>2.0</td>\n",
       "    </tr>\n",
       "  </tbody>\n",
       "</table>\n",
       "</div>"
      ],
      "text/plain": [
       "                 Sepal_Length  Sepal_Width  Petal_Length  Petal_Width\n",
       "Class                                                                \n",
       "Iris-setosa               5.0          3.4          1.50          0.2\n",
       "Iris-versicolor           5.9          2.8          4.35          1.3\n",
       "Iris-virginica            6.5          3.0          5.55          2.0"
      ]
     },
     "execution_count": 22,
     "metadata": {},
     "output_type": "execute_result"
    }
   ],
   "source": [
    "iris_grouped.median()"
   ]
  },
  {
   "cell_type": "markdown",
   "metadata": {},
   "source": [
    "#link2"
   ]
  },
  {
   "cell_type": "code",
   "execution_count": null,
   "metadata": {},
   "outputs": [],
   "source": [
    "\n"
   ]
  },
  {
   "cell_type": "markdown",
   "metadata": {},
   "source": [
    "Now instead of looking at the calculations manually I will try adding a column that shows the differences in means between the three species.\n",
    "Having used groupby to the get the summary statistics by species, I will add a column to the DataFrame to calculate the differences in means.\n",
    "\n",
    "In the original paper by R.A. Fisher,  'THE USE OF MULTIPLE MEASUREMENTS IN TAXONOMIC PROBLEMS' which is available online by The Annals of Human Genetics, Fisher shows a table of the observed means and differences in the means between the iris versicolor and the iris setosa in centimetres.\n",
    "This is Table II *Observed means for two species and their difference (cm.)*.\n",
    "This table displays the means for each of the 4 measurements for the Iris-Versicolor and Iris-Setosa species. It also shows the differences between the Versicolor means and the Setosa means for each of the 4 measurement variables.\n",
    "\n",
    "This table illustrates the observed means and their differences in centimetres. He shows that the length of the Versicolor is on average  2.8 cm's approximately greater than that of the setosa while the sepal length and petal width between these two species vary by approximately one centimetre at 0.93 cm and 1.08 centimetres respectively. On the other hand, the sepal width of the setosa is 0.66 cm larger than that of the versicolor.\n",
    "\n",
    "\n",
    "I will try and get the same information in Table II of Fisher's paper.\n"
   ]
  },
  {
   "cell_type": "code",
   "execution_count": 23,
   "metadata": {},
   "outputs": [],
   "source": [
    "# Fisher's table 2 shows the difference in means for the setosa and versicolor species\n",
    "# use groupby with \"Class\" variable and then get the mean of each class for each measurement variable.\n",
    "\n",
    "# create a dataframe from grouping the iris dataframe by class and calculating the means for each class\n",
    "# Transpose the rows and columns\n",
    "means = iris.groupby(\"Class\").mean().T\n",
    "# only getting the columns up to Iris-versicolor to match Table II in Fisher's paper\n",
    "means.loc[:,'Class':'Iris-versicolor'] \n",
    "\n",
    "# Instead of doing it for two species, I will do it for all the three species. \n",
    "\n",
    "# add a new column for the difference in means between the Versicolor and Setosa species\n",
    "# I have changed the difference in means to show the absolute differences in means\n",
    "means['diff (Versicolor - Setosa)'] = abs(means['Iris-versicolor'] - means['Iris-setosa'])\n",
    "\n",
    "# add a new column for the difference in means between the Versicolor and Virginica species\n",
    "means['diff (Versicolor - Virginica)'] = abs(means['Iris-versicolor'] - means['Iris-virginica'])\n",
    "\n",
    "# add a new column for the difference in means between the Versicolor and Virginica species\n",
    "means['diff (Virginica - Setosa)'] = abs(means['Iris-virginica'] - means['Iris-setosa'])\n"
   ]
  },
  {
   "cell_type": "code",
   "execution_count": 24,
   "metadata": {},
   "outputs": [
    {
     "data": {
      "text/html": [
       "<div>\n",
       "<style scoped>\n",
       "    .dataframe tbody tr th:only-of-type {\n",
       "        vertical-align: middle;\n",
       "    }\n",
       "\n",
       "    .dataframe tbody tr th {\n",
       "        vertical-align: top;\n",
       "    }\n",
       "\n",
       "    .dataframe thead th {\n",
       "        text-align: right;\n",
       "    }\n",
       "</style>\n",
       "<table border=\"1\" class=\"dataframe\">\n",
       "  <thead>\n",
       "    <tr style=\"text-align: right;\">\n",
       "      <th>Class</th>\n",
       "      <th>Iris-setosa</th>\n",
       "      <th>Iris-versicolor</th>\n",
       "      <th>Iris-virginica</th>\n",
       "      <th>diff (Versicolor - Setosa)</th>\n",
       "      <th>diff (Versicolor - Virginica)</th>\n",
       "      <th>diff (Virginica - Setosa)</th>\n",
       "    </tr>\n",
       "  </thead>\n",
       "  <tbody>\n",
       "    <tr>\n",
       "      <th>Sepal_Length</th>\n",
       "      <td>5.006</td>\n",
       "      <td>5.936</td>\n",
       "      <td>6.588</td>\n",
       "      <td>0.930</td>\n",
       "      <td>0.652</td>\n",
       "      <td>1.582</td>\n",
       "    </tr>\n",
       "    <tr>\n",
       "      <th>Sepal_Width</th>\n",
       "      <td>3.418</td>\n",
       "      <td>2.770</td>\n",
       "      <td>2.974</td>\n",
       "      <td>0.648</td>\n",
       "      <td>0.204</td>\n",
       "      <td>0.444</td>\n",
       "    </tr>\n",
       "    <tr>\n",
       "      <th>Petal_Length</th>\n",
       "      <td>1.464</td>\n",
       "      <td>4.260</td>\n",
       "      <td>5.552</td>\n",
       "      <td>2.796</td>\n",
       "      <td>1.292</td>\n",
       "      <td>4.088</td>\n",
       "    </tr>\n",
       "    <tr>\n",
       "      <th>Petal_Width</th>\n",
       "      <td>0.244</td>\n",
       "      <td>1.326</td>\n",
       "      <td>2.026</td>\n",
       "      <td>1.082</td>\n",
       "      <td>0.700</td>\n",
       "      <td>1.782</td>\n",
       "    </tr>\n",
       "  </tbody>\n",
       "</table>\n",
       "</div>"
      ],
      "text/plain": [
       "Class         Iris-setosa  Iris-versicolor  Iris-virginica  \\\n",
       "Sepal_Length        5.006            5.936           6.588   \n",
       "Sepal_Width         3.418            2.770           2.974   \n",
       "Petal_Length        1.464            4.260           5.552   \n",
       "Petal_Width         0.244            1.326           2.026   \n",
       "\n",
       "Class         diff (Versicolor - Setosa)  diff (Versicolor - Virginica)  \\\n",
       "Sepal_Length                       0.930                          0.652   \n",
       "Sepal_Width                        0.648                          0.204   \n",
       "Petal_Length                       2.796                          1.292   \n",
       "Petal_Width                        1.082                          0.700   \n",
       "\n",
       "Class         diff (Virginica - Setosa)  \n",
       "Sepal_Length                      1.582  \n",
       "Sepal_Width                       0.444  \n",
       "Petal_Length                      4.088  \n",
       "Petal_Width                       1.782  "
      ]
     },
     "execution_count": 24,
     "metadata": {},
     "output_type": "execute_result"
    }
   ],
   "source": [
    "means"
   ]
  },
  {
   "cell_type": "markdown",
   "metadata": {},
   "source": [
    "### differences in average measurements between species\n",
    "####  Sepal measurements\n",
    "The virginica has the highest average Sepal Length while the setosa has the smallest average sepal length.\n",
    "The difference in average sepal lengths is therefore greatest between these two species.\n",
    "\n",
    "The setosa has the highest average sepal width and that of the versicolor is the smallest, but the differences are not as marked as the differences in sepal lengths between virginica and setosa.\n",
    "\n",
    "#### Petal measurements\n",
    "The virginica has a much longer average petal length than the setosa.\n",
    "It would be better to visualise them."
   ]
  },
  {
   "cell_type": "markdown",
   "metadata": {},
   "source": [
    "Fisher's table II looked at the differences between the Iris-versicolor and the Iris-setosa.In his paper he mentions that these two species were found growing together in the same colony.\n",
    "The sample of the third species - the Iris Virginica - differs from the setosa and the versicolor in that the virginica sample was from a different natural colony to the other two samples. \n",
    "The difference of means table above shows the greatest difference in average measurements between the petal lengths, sepal lengths and petal widths of the iris setosa and the iris virginica. The averages sizes of the sepal widths varied the most between the versicolor and the setosa but not by as much."
   ]
  },
  {
   "cell_type": "markdown",
   "metadata": {},
   "source": [
    "### Visualising the differences\n",
    "A boxplot would be a suitable graph to show the differences between the distribution of the measurements of the iris data set. \n",
    "A boxplot is used to show distributions with respect to categories and allow  visual comparison between the variables or across levels of a categorical variable. The box shows the quartiles of the data set while the whiskers extend to show the rest of the distribution. It also shows the outliers.\n",
    "The boxplot is suitable for comparing the distribution of the iris petal or sepal measurements and grouping them by the class or species type.\n",
    "Below I am plotting the boxplots for each of the four measurements against the iris species.\n"
   ]
  },
  {
   "cell_type": "code",
   "execution_count": 25,
   "metadata": {},
   "outputs": [],
   "source": [
    "# get information on the boxplot in the seaborn package\n",
    "?sns.boxplot\n",
    "\n"
   ]
  },
  {
   "cell_type": "code",
   "execution_count": 26,
   "metadata": {},
   "outputs": [
    {
     "data": {
      "image/png": "[encoded data removed]",
      "text/plain": [
       "<Figure size 864x576 with 4 Axes>"
      ]
     },
     "metadata": {},
     "output_type": "display_data"
    }
   ],
   "source": [
    "import seaborn as sns\n",
    "import matplotlib.pyplot as plt\n",
    "\n",
    "sns.set(style=\"ticks\", palette=\"pastel\")\n",
    "\n",
    "f, axes = plt.subplots(2, 2, sharey=False, figsize=(12, 8))\n",
    "# pass a panda series as the x and y parameters to the boxplot. \n",
    "# the series here are the columns containing the class and the petal and sepal length measurements.\n",
    "# the sepal length column contains numerical data while the class column contains a categorical variable - the species of the iris flower.\n",
    "# the hue_order provides the order plot the categorical variables in.\n",
    "sns.boxplot(x=\"Class\", y=\"Petal_Length\",data=iris, ax = axes[0,0])\n",
    "sns.boxplot(x=\"Class\", y=\"Sepal_Length\", data=iris, ax=axes[0,1])\n",
    "sns.boxplot(x=\"Class\", y=\"Petal_Width\",hue = \"Class\",data=iris, ax=axes[1,0])\n",
    "sns.boxplot(x=\"Class\", y=\"Sepal_Width\", data=iris, ax=axes[1,1])\n",
    "# adding a title to the plot\n",
    "f.suptitle(\"Boxplot of the Petal and Sepal measurements by Iris plant Species\")\n",
    "\n",
    "plt.show()"
   ]
  },
  {
   "cell_type": "markdown",
   "metadata": {},
   "source": [
    "The boxplots show that the iris setosa has a much smaller range of petal size than the other two species. There is no overlap at all between the petal lengths of the setosa and the other two species, while there is a small overlap between the versicolor and the virginica. "
   ]
  },
  {
   "cell_type": "code",
   "execution_count": 27,
   "metadata": {},
   "outputs": [
    {
     "data": {
      "text/html": [
       "<div>\n",
       "<style scoped>\n",
       "    .dataframe tbody tr th:only-of-type {\n",
       "        vertical-align: middle;\n",
       "    }\n",
       "\n",
       "    .dataframe tbody tr th {\n",
       "        vertical-align: top;\n",
       "    }\n",
       "\n",
       "    .dataframe thead th {\n",
       "        text-align: right;\n",
       "    }\n",
       "</style>\n",
       "<table border=\"1\" class=\"dataframe\">\n",
       "  <thead>\n",
       "    <tr style=\"text-align: right;\">\n",
       "      <th></th>\n",
       "      <th>Sepal_Length</th>\n",
       "      <th>Sepal_Width</th>\n",
       "      <th>Petal_Length</th>\n",
       "      <th>Petal_Width</th>\n",
       "    </tr>\n",
       "    <tr>\n",
       "      <th>Class</th>\n",
       "      <th></th>\n",
       "      <th></th>\n",
       "      <th></th>\n",
       "      <th></th>\n",
       "    </tr>\n",
       "  </thead>\n",
       "  <tbody>\n",
       "    <tr>\n",
       "      <th>Iris-setosa</th>\n",
       "      <td>1.5</td>\n",
       "      <td>2.1</td>\n",
       "      <td>0.9</td>\n",
       "      <td>0.5</td>\n",
       "    </tr>\n",
       "    <tr>\n",
       "      <th>Iris-versicolor</th>\n",
       "      <td>2.1</td>\n",
       "      <td>1.4</td>\n",
       "      <td>2.1</td>\n",
       "      <td>0.8</td>\n",
       "    </tr>\n",
       "    <tr>\n",
       "      <th>Iris-virginica</th>\n",
       "      <td>3.0</td>\n",
       "      <td>1.6</td>\n",
       "      <td>2.4</td>\n",
       "      <td>1.1</td>\n",
       "    </tr>\n",
       "  </tbody>\n",
       "</table>\n",
       "</div>"
      ],
      "text/plain": [
       "                 Sepal_Length  Sepal_Width  Petal_Length  Petal_Width\n",
       "Class                                                                \n",
       "Iris-setosa               1.5          2.1           0.9          0.5\n",
       "Iris-versicolor           2.1          1.4           2.1          0.8\n",
       "Iris-virginica            3.0          1.6           2.4          1.1"
      ]
     },
     "execution_count": 27,
     "metadata": {},
     "output_type": "execute_result"
    }
   ],
   "source": [
    "# I now want to look at the range of the variables. \n",
    "# The pandas describe function shows the minimum and maximum values for the various measurements.\n",
    "# I can use these to calculate the range of values for each measurement.\n",
    "\n",
    "iris_ranges = iris_grouped.max() - iris_grouped.min()\n",
    "iris_ranges"
   ]
  },
  {
   "cell_type": "code",
   "execution_count": 28,
   "metadata": {},
   "outputs": [
    {
     "data": {
      "text/html": [
       "<div>\n",
       "<style scoped>\n",
       "    .dataframe tbody tr th:only-of-type {\n",
       "        vertical-align: middle;\n",
       "    }\n",
       "\n",
       "    .dataframe tbody tr th {\n",
       "        vertical-align: top;\n",
       "    }\n",
       "\n",
       "    .dataframe thead th {\n",
       "        text-align: right;\n",
       "    }\n",
       "</style>\n",
       "<table border=\"1\" class=\"dataframe\">\n",
       "  <thead>\n",
       "    <tr style=\"text-align: right;\">\n",
       "      <th></th>\n",
       "      <th>Sepal_Length</th>\n",
       "      <th>Sepal_Width</th>\n",
       "      <th>Petal_Length</th>\n",
       "      <th>Petal_Width</th>\n",
       "    </tr>\n",
       "    <tr>\n",
       "      <th>Class</th>\n",
       "      <th></th>\n",
       "      <th></th>\n",
       "      <th></th>\n",
       "      <th></th>\n",
       "    </tr>\n",
       "  </thead>\n",
       "  <tbody>\n",
       "    <tr>\n",
       "      <th>Iris-setosa</th>\n",
       "      <td>1.5</td>\n",
       "      <td>2.1</td>\n",
       "      <td>0.9</td>\n",
       "      <td>0.5</td>\n",
       "    </tr>\n",
       "    <tr>\n",
       "      <th>Iris-versicolor</th>\n",
       "      <td>2.1</td>\n",
       "      <td>1.4</td>\n",
       "      <td>2.1</td>\n",
       "      <td>0.8</td>\n",
       "    </tr>\n",
       "    <tr>\n",
       "      <th>Iris-virginica</th>\n",
       "      <td>3.0</td>\n",
       "      <td>1.6</td>\n",
       "      <td>2.4</td>\n",
       "      <td>1.1</td>\n",
       "    </tr>\n",
       "  </tbody>\n",
       "</table>\n",
       "</div>"
      ],
      "text/plain": [
       "                 Sepal_Length  Sepal_Width  Petal_Length  Petal_Width\n",
       "Class                                                                \n",
       "Iris-setosa               1.5          2.1           0.9          0.5\n",
       "Iris-versicolor           2.1          1.4           2.1          0.8\n",
       "Iris-virginica            3.0          1.6           2.4          1.1"
      ]
     },
     "execution_count": 28,
     "metadata": {},
     "output_type": "execute_result"
    }
   ],
   "source": [
    "# sorting the range of values in ascending order, first by petal lengths, then petal widths and then by sepal lengths.\n",
    "iris_ranges.sort_values([\"Petal_Length\",\"Petal_Width\",\"Sepal_Length\"])"
   ]
  },
  {
   "cell_type": "markdown",
   "metadata": {},
   "source": [
    "The iris setosa has the smallest range of values for the petal lengths, petal widths and sepal lengths. However the sepal widths of the setosa have a wider range of values than the other two species. This corresponds to the boxplots above. "
   ]
  },
  {
   "cell_type": "markdown",
   "metadata": {},
   "source": [
    "### where I am!\n",
    "I am currently looking at some plots. Have just looked at the differences between the boxplots for sepal and petal measurements between the species of iris plant.\n",
    "\n",
    "I will look at the correlation between the variables.\n",
    "I am copying some of the comments and explanations back and forth between by readme file in Visual Studio for the project submission.\n",
    "The differences between Petal lengths of the virginica and setosa is quite abvious in the box plot, as is the difference between the petal lengths.\n",
    "\n",
    "The boxplot also show the outliers."
   ]
  },
  {
   "cell_type": "code",
   "execution_count": 29,
   "metadata": {},
   "outputs": [],
   "source": [
    "#help(pd.DataFrame.describe)"
   ]
  },
  {
   "cell_type": "code",
   "execution_count": null,
   "metadata": {},
   "outputs": [],
   "source": []
  },
  {
   "cell_type": "code",
   "execution_count": 30,
   "metadata": {},
   "outputs": [
    {
     "data": {
      "text/html": [
       "<div>\n",
       "<style scoped>\n",
       "    .dataframe tbody tr th:only-of-type {\n",
       "        vertical-align: middle;\n",
       "    }\n",
       "\n",
       "    .dataframe tbody tr th {\n",
       "        vertical-align: top;\n",
       "    }\n",
       "\n",
       "    .dataframe thead th {\n",
       "        text-align: right;\n",
       "    }\n",
       "</style>\n",
       "<table border=\"1\" class=\"dataframe\">\n",
       "  <thead>\n",
       "    <tr style=\"text-align: right;\">\n",
       "      <th>Class</th>\n",
       "      <th>Iris-setosa</th>\n",
       "      <th>Iris-versicolor</th>\n",
       "      <th>Iris-virginica</th>\n",
       "    </tr>\n",
       "  </thead>\n",
       "  <tbody>\n",
       "    <tr>\n",
       "      <th>Sepal_Length</th>\n",
       "      <td>0.352490</td>\n",
       "      <td>0.516171</td>\n",
       "      <td>0.635880</td>\n",
       "    </tr>\n",
       "    <tr>\n",
       "      <th>Sepal_Width</th>\n",
       "      <td>0.381024</td>\n",
       "      <td>0.313798</td>\n",
       "      <td>0.322497</td>\n",
       "    </tr>\n",
       "    <tr>\n",
       "      <th>Petal_Length</th>\n",
       "      <td>0.173511</td>\n",
       "      <td>0.469911</td>\n",
       "      <td>0.551895</td>\n",
       "    </tr>\n",
       "    <tr>\n",
       "      <th>Petal_Width</th>\n",
       "      <td>0.107210</td>\n",
       "      <td>0.197753</td>\n",
       "      <td>0.274650</td>\n",
       "    </tr>\n",
       "  </tbody>\n",
       "</table>\n",
       "</div>"
      ],
      "text/plain": [
       "Class         Iris-setosa  Iris-versicolor  Iris-virginica\n",
       "Sepal_Length     0.352490         0.516171        0.635880\n",
       "Sepal_Width      0.381024         0.313798        0.322497\n",
       "Petal_Length     0.173511         0.469911        0.551895\n",
       "Petal_Width      0.107210         0.197753        0.274650"
      ]
     },
     "execution_count": 30,
     "metadata": {},
     "output_type": "execute_result"
    }
   ],
   "source": [
    "iris_std = iris.groupby(\"Class\").std().T\n",
    "iris_std\n"
   ]
  },
  {
   "cell_type": "code",
   "execution_count": null,
   "metadata": {},
   "outputs": [],
   "source": []
  },
  {
   "cell_type": "code",
   "execution_count": 31,
   "metadata": {},
   "outputs": [],
   "source": [
    "# create a dataframe from grouping the iris dataframe by class and calculating the standard deviations for each class\n",
    "iris_std = iris.groupby(\"Class\").std().T\n",
    "\n",
    "# add a new column for the difference in standard deviations between the Versicolor and Setosa species\n",
    "iris_std['diff (Versicolor - Setosa)'] = abs(iris_std['Iris-versicolor'] - iris_std['Iris-setosa'])\n",
    "\n",
    "# add a new column for the difference in standard deviations between the Versicolor and Virginica species\n",
    "iris_std['diff (Versicolor - Virginica)'] = abs(iris_std['Iris-versicolor'] - iris_std['Iris-virginica'])\n",
    "\n",
    "# add a new column for the difference in standard deviations between the Versicolor and Virginica species\n",
    "iris_std['diff (Virginica - Setosa)'] = abs(iris_std['Iris-virginica'] - iris_std['Iris-setosa'])"
   ]
  },
  {
   "cell_type": "code",
   "execution_count": 32,
   "metadata": {},
   "outputs": [
    {
     "data": {
      "text/html": [
       "<div>\n",
       "<style scoped>\n",
       "    .dataframe tbody tr th:only-of-type {\n",
       "        vertical-align: middle;\n",
       "    }\n",
       "\n",
       "    .dataframe tbody tr th {\n",
       "        vertical-align: top;\n",
       "    }\n",
       "\n",
       "    .dataframe thead th {\n",
       "        text-align: right;\n",
       "    }\n",
       "</style>\n",
       "<table border=\"1\" class=\"dataframe\">\n",
       "  <thead>\n",
       "    <tr style=\"text-align: right;\">\n",
       "      <th>Class</th>\n",
       "      <th>Iris-setosa</th>\n",
       "      <th>Iris-versicolor</th>\n",
       "      <th>Iris-virginica</th>\n",
       "      <th>diff (Versicolor - Setosa)</th>\n",
       "      <th>diff (Versicolor - Virginica)</th>\n",
       "      <th>diff (Virginica - Setosa)</th>\n",
       "    </tr>\n",
       "  </thead>\n",
       "  <tbody>\n",
       "    <tr>\n",
       "      <th>Sepal_Length</th>\n",
       "      <td>0.352490</td>\n",
       "      <td>0.516171</td>\n",
       "      <td>0.635880</td>\n",
       "      <td>0.163681</td>\n",
       "      <td>0.119708</td>\n",
       "      <td>0.283390</td>\n",
       "    </tr>\n",
       "    <tr>\n",
       "      <th>Sepal_Width</th>\n",
       "      <td>0.381024</td>\n",
       "      <td>0.313798</td>\n",
       "      <td>0.322497</td>\n",
       "      <td>0.067226</td>\n",
       "      <td>0.008698</td>\n",
       "      <td>0.058528</td>\n",
       "    </tr>\n",
       "    <tr>\n",
       "      <th>Petal_Length</th>\n",
       "      <td>0.173511</td>\n",
       "      <td>0.469911</td>\n",
       "      <td>0.551895</td>\n",
       "      <td>0.296400</td>\n",
       "      <td>0.081984</td>\n",
       "      <td>0.378384</td>\n",
       "    </tr>\n",
       "    <tr>\n",
       "      <th>Petal_Width</th>\n",
       "      <td>0.107210</td>\n",
       "      <td>0.197753</td>\n",
       "      <td>0.274650</td>\n",
       "      <td>0.090543</td>\n",
       "      <td>0.076897</td>\n",
       "      <td>0.167441</td>\n",
       "    </tr>\n",
       "  </tbody>\n",
       "</table>\n",
       "</div>"
      ],
      "text/plain": [
       "Class         Iris-setosa  Iris-versicolor  Iris-virginica  \\\n",
       "Sepal_Length     0.352490         0.516171        0.635880   \n",
       "Sepal_Width      0.381024         0.313798        0.322497   \n",
       "Petal_Length     0.173511         0.469911        0.551895   \n",
       "Petal_Width      0.107210         0.197753        0.274650   \n",
       "\n",
       "Class         diff (Versicolor - Setosa)  diff (Versicolor - Virginica)  \\\n",
       "Sepal_Length                    0.163681                       0.119708   \n",
       "Sepal_Width                     0.067226                       0.008698   \n",
       "Petal_Length                    0.296400                       0.081984   \n",
       "Petal_Width                     0.090543                       0.076897   \n",
       "\n",
       "Class         diff (Virginica - Setosa)  \n",
       "Sepal_Length                   0.283390  \n",
       "Sepal_Width                    0.058528  \n",
       "Petal_Length                   0.378384  \n",
       "Petal_Width                    0.167441  "
      ]
     },
     "execution_count": 32,
     "metadata": {},
     "output_type": "execute_result"
    }
   ],
   "source": [
    "# Now doing it for the standard deviations.\n",
    "iris_std"
   ]
  },
  {
   "cell_type": "code",
   "execution_count": 33,
   "metadata": {},
   "outputs": [
    {
     "name": "stdout",
     "output_type": "stream",
     "text": [
      "Help on function describe in module pandas.core.generic:\n",
      "\n",
      "describe(self, percentiles=None, include=None, exclude=None)\n",
      "    Generate descriptive statistics that summarize the central tendency,\n",
      "    dispersion and shape of a dataset's distribution, excluding\n",
      "    ``NaN`` values.\n",
      "    \n",
      "    Analyzes both numeric and object series, as well\n",
      "    as ``DataFrame`` column sets of mixed data types. The output\n",
      "    will vary depending on what is provided. Refer to the notes\n",
      "    below for more detail.\n",
      "    \n",
      "    Parameters\n",
      "    ----------\n",
      "    percentiles : list-like of numbers, optional\n",
      "        The percentiles to include in the output. All should\n",
      "        fall between 0 and 1. The default is\n",
      "        ``[.25, .5, .75]``, which returns the 25th, 50th, and\n",
      "        75th percentiles.\n",
      "    include : 'all', list-like of dtypes or None (default), optional\n",
      "        A white list of data types to include in the result. Ignored\n",
      "        for ``Series``. Here are the options:\n",
      "    \n",
      "        - 'all' : All columns of the input will be included in the output.\n",
      "        - A list-like of dtypes : Limits the results to the\n",
      "          provided data types.\n",
      "          To limit the result to numeric types submit\n",
      "          ``numpy.number``. To limit it instead to object columns submit\n",
      "          the ``numpy.object`` data type. Strings\n",
      "          can also be used in the style of\n",
      "          ``select_dtypes`` (e.g. ``df.describe(include=['O'])``). To\n",
      "          select pandas categorical columns, use ``'category'``\n",
      "        - None (default) : The result will include all numeric columns.\n",
      "    exclude : list-like of dtypes or None (default), optional,\n",
      "        A black list of data types to omit from the result. Ignored\n",
      "        for ``Series``. Here are the options:\n",
      "    \n",
      "        - A list-like of dtypes : Excludes the provided data types\n",
      "          from the result. To exclude numeric types submit\n",
      "          ``numpy.number``. To exclude object columns submit the data\n",
      "          type ``numpy.object``. Strings can also be used in the style of\n",
      "          ``select_dtypes`` (e.g. ``df.describe(include=['O'])``). To\n",
      "          exclude pandas categorical columns, use ``'category'``\n",
      "        - None (default) : The result will exclude nothing.\n",
      "    \n",
      "    Returns\n",
      "    -------\n",
      "    Series or DataFrame\n",
      "        Summary statistics of the Series or Dataframe provided.\n",
      "    \n",
      "    See Also\n",
      "    --------\n",
      "    DataFrame.count: Count number of non-NA/null observations.\n",
      "    DataFrame.max: Maximum of the values in the object.\n",
      "    DataFrame.min: Minimum of the values in the object.\n",
      "    DataFrame.mean: Mean of the values.\n",
      "    DataFrame.std: Standard deviation of the obersvations.\n",
      "    DataFrame.select_dtypes: Subset of a DataFrame including/excluding\n",
      "        columns based on their dtype.\n",
      "    \n",
      "    Notes\n",
      "    -----\n",
      "    For numeric data, the result's index will include ``count``,\n",
      "    ``mean``, ``std``, ``min``, ``max`` as well as lower, ``50`` and\n",
      "    upper percentiles. By default the lower percentile is ``25`` and the\n",
      "    upper percentile is ``75``. The ``50`` percentile is the\n",
      "    same as the median.\n",
      "    \n",
      "    For object data (e.g. strings or timestamps), the result's index\n",
      "    will include ``count``, ``unique``, ``top``, and ``freq``. The ``top``\n",
      "    is the most common value. The ``freq`` is the most common value's\n",
      "    frequency. Timestamps also include the ``first`` and ``last`` items.\n",
      "    \n",
      "    If multiple object values have the highest count, then the\n",
      "    ``count`` and ``top`` results will be arbitrarily chosen from\n",
      "    among those with the highest count.\n",
      "    \n",
      "    For mixed data types provided via a ``DataFrame``, the default is to\n",
      "    return only an analysis of numeric columns. If the dataframe consists\n",
      "    only of object and categorical data without any numeric columns, the\n",
      "    default is to return an analysis of both the object and categorical\n",
      "    columns. If ``include='all'`` is provided as an option, the result\n",
      "    will include a union of attributes of each type.\n",
      "    \n",
      "    The `include` and `exclude` parameters can be used to limit\n",
      "    which columns in a ``DataFrame`` are analyzed for the output.\n",
      "    The parameters are ignored when analyzing a ``Series``.\n",
      "    \n",
      "    Examples\n",
      "    --------\n",
      "    Describing a numeric ``Series``.\n",
      "    \n",
      "    >>> s = pd.Series([1, 2, 3])\n",
      "    >>> s.describe()\n",
      "    count    3.0\n",
      "    mean     2.0\n",
      "    std      1.0\n",
      "    min      1.0\n",
      "    25%      1.5\n",
      "    50%      2.0\n",
      "    75%      2.5\n",
      "    max      3.0\n",
      "    dtype: float64\n",
      "    \n",
      "    Describing a categorical ``Series``.\n",
      "    \n",
      "    >>> s = pd.Series(['a', 'a', 'b', 'c'])\n",
      "    >>> s.describe()\n",
      "    count     4\n",
      "    unique    3\n",
      "    top       a\n",
      "    freq      2\n",
      "    dtype: object\n",
      "    \n",
      "    Describing a timestamp ``Series``.\n",
      "    \n",
      "    >>> s = pd.Series([\n",
      "    ...   np.datetime64(\"2000-01-01\"),\n",
      "    ...   np.datetime64(\"2010-01-01\"),\n",
      "    ...   np.datetime64(\"2010-01-01\")\n",
      "    ... ])\n",
      "    >>> s.describe()\n",
      "    count                       3\n",
      "    unique                      2\n",
      "    top       2010-01-01 00:00:00\n",
      "    freq                        2\n",
      "    first     2000-01-01 00:00:00\n",
      "    last      2010-01-01 00:00:00\n",
      "    dtype: object\n",
      "    \n",
      "    Describing a ``DataFrame``. By default only numeric fields\n",
      "    are returned.\n",
      "    \n",
      "    >>> df = pd.DataFrame({'categorical': pd.Categorical(['d','e','f']),\n",
      "    ...                    'numeric': [1, 2, 3],\n",
      "    ...                    'object': ['a', 'b', 'c']\n",
      "    ...                   })\n",
      "    >>> df.describe()\n",
      "           numeric\n",
      "    count      3.0\n",
      "    mean       2.0\n",
      "    std        1.0\n",
      "    min        1.0\n",
      "    25%        1.5\n",
      "    50%        2.0\n",
      "    75%        2.5\n",
      "    max        3.0\n",
      "    \n",
      "    Describing all columns of a ``DataFrame`` regardless of data type.\n",
      "    \n",
      "    >>> df.describe(include='all')\n",
      "            categorical  numeric object\n",
      "    count            3      3.0      3\n",
      "    unique           3      NaN      3\n",
      "    top              f      NaN      c\n",
      "    freq             1      NaN      1\n",
      "    mean           NaN      2.0    NaN\n",
      "    std            NaN      1.0    NaN\n",
      "    min            NaN      1.0    NaN\n",
      "    25%            NaN      1.5    NaN\n",
      "    50%            NaN      2.0    NaN\n",
      "    75%            NaN      2.5    NaN\n",
      "    max            NaN      3.0    NaN\n",
      "    \n",
      "    Describing a column from a ``DataFrame`` by accessing it as\n",
      "    an attribute.\n",
      "    \n",
      "    >>> df.numeric.describe()\n",
      "    count    3.0\n",
      "    mean     2.0\n",
      "    std      1.0\n",
      "    min      1.0\n",
      "    25%      1.5\n",
      "    50%      2.0\n",
      "    75%      2.5\n",
      "    max      3.0\n",
      "    Name: numeric, dtype: float64\n",
      "    \n",
      "    Including only numeric columns in a ``DataFrame`` description.\n",
      "    \n",
      "    >>> df.describe(include=[np.number])\n",
      "           numeric\n",
      "    count      3.0\n",
      "    mean       2.0\n",
      "    std        1.0\n",
      "    min        1.0\n",
      "    25%        1.5\n",
      "    50%        2.0\n",
      "    75%        2.5\n",
      "    max        3.0\n",
      "    \n",
      "    Including only string columns in a ``DataFrame`` description.\n",
      "    \n",
      "    >>> df.describe(include=[np.object])\n",
      "           object\n",
      "    count       3\n",
      "    unique      3\n",
      "    top         c\n",
      "    freq        1\n",
      "    \n",
      "    Including only categorical columns from a ``DataFrame`` description.\n",
      "    \n",
      "    >>> df.describe(include=['category'])\n",
      "           categorical\n",
      "    count            3\n",
      "    unique           3\n",
      "    top              f\n",
      "    freq             1\n",
      "    \n",
      "    Excluding numeric columns from a ``DataFrame`` description.\n",
      "    \n",
      "    >>> df.describe(exclude=[np.number])\n",
      "           categorical object\n",
      "    count            3      3\n",
      "    unique           3      3\n",
      "    top              f      c\n",
      "    freq             1      1\n",
      "    \n",
      "    Excluding object columns from a ``DataFrame`` description.\n",
      "    \n",
      "    >>> df.describe(exclude=[np.object])\n",
      "           categorical  numeric\n",
      "    count            3      3.0\n",
      "    unique           3      NaN\n",
      "    top              f      NaN\n",
      "    freq             1      NaN\n",
      "    mean           NaN      2.0\n",
      "    std            NaN      1.0\n",
      "    min            NaN      1.0\n",
      "    25%            NaN      1.5\n",
      "    50%            NaN      2.0\n",
      "    75%            NaN      2.5\n",
      "    max            NaN      3.0\n",
      "\n"
     ]
    }
   ],
   "source": [
    "help(pd.DataFrame.describe)"
   ]
  },
  {
   "cell_type": "code",
   "execution_count": null,
   "metadata": {},
   "outputs": [],
   "source": []
  },
  {
   "cell_type": "code",
   "execution_count": null,
   "metadata": {},
   "outputs": [],
   "source": []
  },
  {
   "cell_type": "markdown",
   "metadata": {},
   "source": [
    "\n",
    "[linktomytag](#mytag)"
   ]
  },
  {
   "cell_type": "code",
   "execution_count": null,
   "metadata": {},
   "outputs": [],
   "source": [
    "\n"
   ]
  },
  {
   "cell_type": "code",
   "execution_count": null,
   "metadata": {},
   "outputs": [],
   "source": [
    "#mytag"
   ]
  },
  {
   "cell_type": "markdown",
   "metadata": {},
   "source": [
    "\n",
    "## project plan and where I am at now!\n",
    "I am currently looking at summary statistics for the three iris species using the pandas library.\n",
    "Also looking at plots using the seaborn library. Started with boxplots.\n",
    "\n",
    "Yet to look at the correlation between the variables and scatter plots\n",
    "- histogram to see the distributions\n",
    "- Will also look at other libraries.\n",
    "- statistics\n",
    "- machine learning \n",
    "- more research \n",
    "\n",
    "\n",
    "\n",
    "\n"
   ]
  },
  {
   "cell_type": "code",
   "execution_count": null,
   "metadata": {},
   "outputs": [],
   "source": [
    "help(pd.DataFrame)"
   ]
  },
  {
   "cell_type": "markdown",
   "metadata": {},
   "source": [
    "### Correlation and Covariance in the Iris dataset\n",
    "Covariance and correlation statistics are often used to see if there is dependency between two variables. Covariance measures the direction of a relationship between variables. The correlation between variables show the strength and the direction of a linear relationship between variables.\n",
    "`pandas` has a covariance function `cov` that can compute the pairwise covariances of columns of numeric data(excluding NA's).It returns a covariance matrix. The `corr` function returns a pairwise correlation of the variables and is a function of the covariance.\n",
    "I will focus on the correlation between the variables which . A correlation can range between -1 and +1 with numbers close to -1 showing a strong negative relationship between the variables. A correlation close to zero would indicate no relationship between the variables. A correlation close to +1 indicates a strong positive relationship."
   ]
  },
  {
   "cell_type": "code",
   "execution_count": 41,
   "metadata": {},
   "outputs": [
    {
     "name": "stdout",
     "output_type": "stream",
     "text": [
      "Help on function corr in module pandas.core.frame:\n",
      "\n",
      "corr(self, method='pearson', min_periods=1)\n",
      "    Compute pairwise correlation of columns, excluding NA/null values.\n",
      "    \n",
      "    Parameters\n",
      "    ----------\n",
      "    method : {'pearson', 'kendall', 'spearman'} or callable\n",
      "        * pearson : standard correlation coefficient\n",
      "        * kendall : Kendall Tau correlation coefficient\n",
      "        * spearman : Spearman rank correlation\n",
      "        * callable: callable with input two 1d ndarrays\n",
      "            and returning a float\n",
      "            .. versionadded:: 0.24.0\n",
      "    \n",
      "    min_periods : int, optional\n",
      "        Minimum number of observations required per pair of columns\n",
      "        to have a valid result. Currently only available for pearson\n",
      "        and spearman correlation\n",
      "    \n",
      "    Returns\n",
      "    -------\n",
      "    y : DataFrame\n",
      "    \n",
      "    See Also\n",
      "    --------\n",
      "    DataFrame.corrwith\n",
      "    Series.corr\n",
      "    \n",
      "    Examples\n",
      "    --------\n",
      "    >>> histogram_intersection = lambda a, b: np.minimum(a, b\n",
      "    ... ).sum().round(decimals=1)\n",
      "    >>> df = pd.DataFrame([(.2, .3), (.0, .6), (.6, .0), (.2, .1)],\n",
      "    ...                   columns=['dogs', 'cats'])\n",
      "    >>> df.corr(method=histogram_intersection)\n",
      "          dogs cats\n",
      "    dogs   1.0  0.3\n",
      "    cats   0.3  1.0\n",
      "\n"
     ]
    }
   ],
   "source": [
    "help(pd.DataFrame.corr)"
   ]
  },
  {
   "cell_type": "code",
   "execution_count": 40,
   "metadata": {},
   "outputs": [
    {
     "data": {
      "text/html": [
       "<div>\n",
       "<style scoped>\n",
       "    .dataframe tbody tr th:only-of-type {\n",
       "        vertical-align: middle;\n",
       "    }\n",
       "\n",
       "    .dataframe tbody tr th {\n",
       "        vertical-align: top;\n",
       "    }\n",
       "\n",
       "    .dataframe thead th {\n",
       "        text-align: right;\n",
       "    }\n",
       "</style>\n",
       "<table border=\"1\" class=\"dataframe\">\n",
       "  <thead>\n",
       "    <tr style=\"text-align: right;\">\n",
       "      <th></th>\n",
       "      <th>Sepal_Length</th>\n",
       "      <th>Sepal_Width</th>\n",
       "      <th>Petal_Length</th>\n",
       "      <th>Petal_Width</th>\n",
       "    </tr>\n",
       "  </thead>\n",
       "  <tbody>\n",
       "    <tr>\n",
       "      <th>Sepal_Length</th>\n",
       "      <td>1.000000</td>\n",
       "      <td>-0.109369</td>\n",
       "      <td>0.871754</td>\n",
       "      <td>0.817954</td>\n",
       "    </tr>\n",
       "    <tr>\n",
       "      <th>Sepal_Width</th>\n",
       "      <td>-0.109369</td>\n",
       "      <td>1.000000</td>\n",
       "      <td>-0.420516</td>\n",
       "      <td>-0.356544</td>\n",
       "    </tr>\n",
       "    <tr>\n",
       "      <th>Petal_Length</th>\n",
       "      <td>0.871754</td>\n",
       "      <td>-0.420516</td>\n",
       "      <td>1.000000</td>\n",
       "      <td>0.962757</td>\n",
       "    </tr>\n",
       "    <tr>\n",
       "      <th>Petal_Width</th>\n",
       "      <td>0.817954</td>\n",
       "      <td>-0.356544</td>\n",
       "      <td>0.962757</td>\n",
       "      <td>1.000000</td>\n",
       "    </tr>\n",
       "  </tbody>\n",
       "</table>\n",
       "</div>"
      ],
      "text/plain": [
       "              Sepal_Length  Sepal_Width  Petal_Length  Petal_Width\n",
       "Sepal_Length      1.000000    -0.109369      0.871754     0.817954\n",
       "Sepal_Width      -0.109369     1.000000     -0.420516    -0.356544\n",
       "Petal_Length      0.871754    -0.420516      1.000000     0.962757\n",
       "Petal_Width       0.817954    -0.356544      0.962757     1.000000"
      ]
     },
     "execution_count": 40,
     "metadata": {},
     "output_type": "execute_result"
    }
   ],
   "source": [
    "# looking at the covariance of the petal and sepal measurements for the Iris data set as a whole. \n",
    "# There is a strong positive correlation between the sepal length and the petal length and between the petal length and the petal width.\n",
    "\n",
    "iris.corr()"
   ]
  },
  {
   "cell_type": "code",
   "execution_count": 42,
   "metadata": {},
   "outputs": [
    {
     "data": {
      "text/html": [
       "<div>\n",
       "<style scoped>\n",
       "    .dataframe tbody tr th:only-of-type {\n",
       "        vertical-align: middle;\n",
       "    }\n",
       "\n",
       "    .dataframe tbody tr th {\n",
       "        vertical-align: top;\n",
       "    }\n",
       "\n",
       "    .dataframe thead th {\n",
       "        text-align: right;\n",
       "    }\n",
       "</style>\n",
       "<table border=\"1\" class=\"dataframe\">\n",
       "  <thead>\n",
       "    <tr style=\"text-align: right;\">\n",
       "      <th></th>\n",
       "      <th></th>\n",
       "      <th>Sepal_Length</th>\n",
       "      <th>Sepal_Width</th>\n",
       "      <th>Petal_Length</th>\n",
       "      <th>Petal_Width</th>\n",
       "    </tr>\n",
       "    <tr>\n",
       "      <th>Class</th>\n",
       "      <th></th>\n",
       "      <th></th>\n",
       "      <th></th>\n",
       "      <th></th>\n",
       "      <th></th>\n",
       "    </tr>\n",
       "  </thead>\n",
       "  <tbody>\n",
       "    <tr>\n",
       "      <th rowspan=\"4\" valign=\"top\">Iris-setosa</th>\n",
       "      <th>Sepal_Length</th>\n",
       "      <td>1.000000</td>\n",
       "      <td>0.746780</td>\n",
       "      <td>0.263874</td>\n",
       "      <td>0.279092</td>\n",
       "    </tr>\n",
       "    <tr>\n",
       "      <th>Sepal_Width</th>\n",
       "      <td>0.746780</td>\n",
       "      <td>1.000000</td>\n",
       "      <td>0.176695</td>\n",
       "      <td>0.279973</td>\n",
       "    </tr>\n",
       "    <tr>\n",
       "      <th>Petal_Length</th>\n",
       "      <td>0.263874</td>\n",
       "      <td>0.176695</td>\n",
       "      <td>1.000000</td>\n",
       "      <td>0.306308</td>\n",
       "    </tr>\n",
       "    <tr>\n",
       "      <th>Petal_Width</th>\n",
       "      <td>0.279092</td>\n",
       "      <td>0.279973</td>\n",
       "      <td>0.306308</td>\n",
       "      <td>1.000000</td>\n",
       "    </tr>\n",
       "    <tr>\n",
       "      <th rowspan=\"4\" valign=\"top\">Iris-versicolor</th>\n",
       "      <th>Sepal_Length</th>\n",
       "      <td>1.000000</td>\n",
       "      <td>0.525911</td>\n",
       "      <td>0.754049</td>\n",
       "      <td>0.546461</td>\n",
       "    </tr>\n",
       "    <tr>\n",
       "      <th>Sepal_Width</th>\n",
       "      <td>0.525911</td>\n",
       "      <td>1.000000</td>\n",
       "      <td>0.560522</td>\n",
       "      <td>0.663999</td>\n",
       "    </tr>\n",
       "    <tr>\n",
       "      <th>Petal_Length</th>\n",
       "      <td>0.754049</td>\n",
       "      <td>0.560522</td>\n",
       "      <td>1.000000</td>\n",
       "      <td>0.786668</td>\n",
       "    </tr>\n",
       "    <tr>\n",
       "      <th>Petal_Width</th>\n",
       "      <td>0.546461</td>\n",
       "      <td>0.663999</td>\n",
       "      <td>0.786668</td>\n",
       "      <td>1.000000</td>\n",
       "    </tr>\n",
       "    <tr>\n",
       "      <th rowspan=\"4\" valign=\"top\">Iris-virginica</th>\n",
       "      <th>Sepal_Length</th>\n",
       "      <td>1.000000</td>\n",
       "      <td>0.457228</td>\n",
       "      <td>0.864225</td>\n",
       "      <td>0.281108</td>\n",
       "    </tr>\n",
       "    <tr>\n",
       "      <th>Sepal_Width</th>\n",
       "      <td>0.457228</td>\n",
       "      <td>1.000000</td>\n",
       "      <td>0.401045</td>\n",
       "      <td>0.537728</td>\n",
       "    </tr>\n",
       "    <tr>\n",
       "      <th>Petal_Length</th>\n",
       "      <td>0.864225</td>\n",
       "      <td>0.401045</td>\n",
       "      <td>1.000000</td>\n",
       "      <td>0.322108</td>\n",
       "    </tr>\n",
       "    <tr>\n",
       "      <th>Petal_Width</th>\n",
       "      <td>0.281108</td>\n",
       "      <td>0.537728</td>\n",
       "      <td>0.322108</td>\n",
       "      <td>1.000000</td>\n",
       "    </tr>\n",
       "  </tbody>\n",
       "</table>\n",
       "</div>"
      ],
      "text/plain": [
       "                              Sepal_Length  Sepal_Width  Petal_Length  \\\n",
       "Class                                                                   \n",
       "Iris-setosa     Sepal_Length      1.000000     0.746780      0.263874   \n",
       "                Sepal_Width       0.746780     1.000000      0.176695   \n",
       "                Petal_Length      0.263874     0.176695      1.000000   \n",
       "                Petal_Width       0.279092     0.279973      0.306308   \n",
       "Iris-versicolor Sepal_Length      1.000000     0.525911      0.754049   \n",
       "                Sepal_Width       0.525911     1.000000      0.560522   \n",
       "                Petal_Length      0.754049     0.560522      1.000000   \n",
       "                Petal_Width       0.546461     0.663999      0.786668   \n",
       "Iris-virginica  Sepal_Length      1.000000     0.457228      0.864225   \n",
       "                Sepal_Width       0.457228     1.000000      0.401045   \n",
       "                Petal_Length      0.864225     0.401045      1.000000   \n",
       "                Petal_Width       0.281108     0.537728      0.322108   \n",
       "\n",
       "                              Petal_Width  \n",
       "Class                                      \n",
       "Iris-setosa     Sepal_Length     0.279092  \n",
       "                Sepal_Width      0.279973  \n",
       "                Petal_Length     0.306308  \n",
       "                Petal_Width      1.000000  \n",
       "Iris-versicolor Sepal_Length     0.546461  \n",
       "                Sepal_Width      0.663999  \n",
       "                Petal_Length     0.786668  \n",
       "                Petal_Width      1.000000  \n",
       "Iris-virginica  Sepal_Length     0.281108  \n",
       "                Sepal_Width      0.537728  \n",
       "                Petal_Length     0.322108  \n",
       "                Petal_Width      1.000000  "
      ]
     },
     "execution_count": 42,
     "metadata": {},
     "output_type": "execute_result"
    }
   ],
   "source": [
    "iris_grouped.corr()\n",
    "\n"
   ]
  },
  {
   "cell_type": "code",
   "execution_count": 44,
   "metadata": {},
   "outputs": [
    {
     "data": {
      "image/png": "[encoded data removed]",
      "text/plain": [
       "<Figure size 720x288 with 2 Axes>"
      ]
     },
     "metadata": {},
     "output_type": "display_data"
    }
   ],
   "source": [
    "f, axes = plt.subplots(1, 2, sharey=True, figsize=(10, 4))\n",
    "sns.scatterplot(x=\"Petal_Length\", y=\"Sepal_Length\", hue = \"Class\",data=iris, ax=axes[0])\n",
    "sns.scatterplot(x=\"Petal_Width\", y=\"Sepal_Width\", hue=\"Class\", data=iris, ax=axes[1])\n",
    "plt.show()"
   ]
  },
  {
   "cell_type": "markdown",
   "metadata": {},
   "source": [
    "#### Filtering the data set\n",
    "Looking at some other ways to subset and filter the iris data set"
   ]
  },
  {
   "cell_type": "code",
   "execution_count": null,
   "metadata": {},
   "outputs": [],
   "source": [
    "## Here I am subsetting the data to meet a given criteria su\n",
    "# http://pandas.pydata.org/pandas-docs/stable/user_guide/indexing.html#indexing-with-isin\n",
    "values =  {'Class': ['Iris-versicolor', 'Iris-virginica']}\n",
    "row_mask = iris.isin(values).any(1)\n",
    "iris[row_mask].head()"
   ]
  },
  {
   "cell_type": "code",
   "execution_count": null,
   "metadata": {},
   "outputs": [],
   "source": []
  },
  {
   "cell_type": "code",
   "execution_count": 63,
   "metadata": {},
   "outputs": [
    {
     "data": {
      "text/html": [
       "<div>\n",
       "<style scoped>\n",
       "    .dataframe tbody tr th:only-of-type {\n",
       "        vertical-align: middle;\n",
       "    }\n",
       "\n",
       "    .dataframe tbody tr th {\n",
       "        vertical-align: top;\n",
       "    }\n",
       "\n",
       "    .dataframe thead th {\n",
       "        text-align: right;\n",
       "    }\n",
       "</style>\n",
       "<table border=\"1\" class=\"dataframe\">\n",
       "  <thead>\n",
       "    <tr style=\"text-align: right;\">\n",
       "      <th></th>\n",
       "      <th>Sepal_Length</th>\n",
       "      <th>Sepal_Width</th>\n",
       "      <th>Petal_Length</th>\n",
       "      <th>Petal_Width</th>\n",
       "    </tr>\n",
       "    <tr>\n",
       "      <th>Class</th>\n",
       "      <th></th>\n",
       "      <th></th>\n",
       "      <th></th>\n",
       "      <th></th>\n",
       "    </tr>\n",
       "  </thead>\n",
       "  <tbody>\n",
       "    <tr>\n",
       "      <th>Iris-setosa</th>\n",
       "      <td>5.006</td>\n",
       "      <td>3.418</td>\n",
       "      <td>1.464</td>\n",
       "      <td>0.244</td>\n",
       "    </tr>\n",
       "    <tr>\n",
       "      <th>Iris-versicolor</th>\n",
       "      <td>5.936</td>\n",
       "      <td>2.770</td>\n",
       "      <td>4.260</td>\n",
       "      <td>1.326</td>\n",
       "    </tr>\n",
       "    <tr>\n",
       "      <th>Iris-virginica</th>\n",
       "      <td>6.588</td>\n",
       "      <td>2.974</td>\n",
       "      <td>5.552</td>\n",
       "      <td>2.026</td>\n",
       "    </tr>\n",
       "  </tbody>\n",
       "</table>\n",
       "</div>"
      ],
      "text/plain": [
       "                 Sepal_Length  Sepal_Width  Petal_Length  Petal_Width\n",
       "Class                                                                \n",
       "Iris-setosa             5.006        3.418         1.464        0.244\n",
       "Iris-versicolor         5.936        2.770         4.260        1.326\n",
       "Iris-virginica          6.588        2.974         5.552        2.026"
      ]
     },
     "execution_count": 63,
     "metadata": {},
     "output_type": "execute_result"
    }
   ],
   "source": [
    "iris_grouped.mean()"
   ]
  },
  {
   "cell_type": "markdown",
   "metadata": {},
   "source": [
    "\n",
    "#### THIS IS NOT YET IN THE README  between here\n",
    "\n",
    "## A bit more about the iris plants in question\n",
    "### maybe put it with the group by section or in a separate markdown document.\n",
    "\n",
    "A sepal is the green part of the flower that protects the petals. \n",
    "\n",
    "#### Iris Setosa\n",
    "\n",
    "See [Iris setosa description](https://en.wikipedia.org/w/index.php?title=Iris_setosa&oldid=858265829).\n",
    "\n",
    "Iris setosa (also known as bristle-pointed iris), is a species in the genus Iris. It is a rhizomatous perennial from a wide range across the Arctic sea, including Alaska, Maine, Canada (including British Columbia, Newfoundland, Quebec and Yukon), Russia (including Siberia), northeastern Asia, China, Korea and southwards to Japan. The plant has tall branching stems, mid green leaves and violet, purple-blue, violet-blue, blue, to lavender flowers. There are also plants with pink and white flowers.\n",
    "\n",
    "The iris setosa plant has tall branching stems, mid green leaves and violet, purple-blue, violet-blue, blue, to lavender flowers. There are also plants with pink and white flowers.\n",
    "\n",
    "http://www.perennials.com/plants/iris-setosa-var-arctica.html\n",
    "**Iris setosa var. arctica**\n",
    "(Dwarf Arctic Iris)\n",
    "This is a short, grassy leaved Iris species, native to Siberia and Alaska. It forms a low tuft of bright green, sword-shaped leaves. Loads of small three-petalled flowers appear in late spring, lavender-blue with silvery-white veining.\n",
    "\n",
    "Flower Head Size Medium\n",
    "Height 15-30 cm \n",
    "Spread 20-30 cm \n",
    "\n",
    "- The Iris setosa has *mid-green* leaves, which are *grass-like*, and lanceolate (sword-shaped).   \n",
    "- They have a *purplish tinged base* and the leaves can measure *30–60 cm long by 0.8–2.5 cm wide*.  \n",
    "- The plant has 3–4 flowers per stem (between 6 and 13 for the whole plant,in groups of 3, and it blooms between June and July.\n",
    "- The large flowers are between 5–8 cm across,usually 7–8 cm, and come in a range of shades of blue, which can depend on the location. and range from violet, purple-blue, violet-blue, blue,to lavender. Very occasionally, there are pink or white forms.\n",
    "- Like other irises, it has 2 pairs of petals, 3 large sepals (outer petals), known as the 'falls' and 3 inner, smaller petals (or tepals), known as the 'standards'. \n",
    "- The sepals can be deeply veined dark purple with a yellow-white signal (centre). \n",
    "- The standards are so small, that they are reduced to bristles.Which gives the flower, a flat, three petal appearance\n",
    "\n",
    "### The Iris versicolor \n",
    "\n",
    "\n",
    "see [iris versicolor description](https://en.wikipedia.org/wiki/Iris_versicolor)\n",
    "\n",
    "- The *Iris versicolor* is a species of Iris native to North America, in the Eastern United States and Eastern Canada\n",
    "- Iris versicolor is a flowering herbaceous perennial plant, growing 10–80 cm high. \n",
    "- It tends to form large clumps from thick, creeping rhizomes. \n",
    "- The unwinged, erect stems generally have basal leaves that are more than 1 cm wide. \n",
    "- Leaves are folded on the midribs so that they form an overlapping flat fan. \n",
    "- The well developed blue flower has 6 petals and sepals spread out nearly flat and have two forms. \n",
    "- The longer sepals are hairless and have a greenish-yellow blotch at their base. The inferior ovary is bluntly angled. \n",
    "- Flowers are usually light to deep blue (purple and violet are not uncommon)\n",
    "\n",
    "### The Iris Virginica\n",
    "see [iris virginica description](https://en.wikipedia.org/wiki/Iris_virginica)\n",
    "The plant has 2 to 4 *erect* or arching, *bright green, lance-shaped* leaves that are flattened into one plane at the base. \n",
    "- Leaves are *1–3 cm* wide and are sometimes longer than the flower stalk. \n",
    "- The slightly fragrant flowers (4 cm long, 7 cm across) consist of 3 horizontal sepals, or \"falls\", and 3 erect petals. \n",
    "- The petals and sepals can vary in color from dark-violet to pinkish-white. \n",
    "- The sepals have a splash of yellow to yellow-orange at the crest. \n",
    "- Each plant has 2 to 6 flowers that bloom from April to May upon a single, erect, 30–90 cm tall stalk. \n",
    "- The stalk is sometimes branched and has a slight zigzag appearance.\n",
    "\n",
    "\n",
    "\n",
    "http://www.perennials.com/plants/iris-setosa-var-arctica.html\n",
    "**Iris setosa var. arctica**\n",
    "(Dwarf Arctic Iris)\n",
    "This is a short, grassy leaved Iris species, native to Siberia and Alaska. It forms a low tuft of bright green, sword-shaped leaves. Loads of small three-petalled flowers appear in late spring, lavender-blue with silvery-white veining.\n",
    "\n",
    "Flower Head Size Medium\n",
    "Height 15-30 cm \n",
    "Spread 20-30 cm \n",
    "\n",
    "**Iris versicolor**\n",
    "(Blue Flag IriS)\n",
    "This is a wild flower of Eastern North America, and one of the few native iris species in garden cultivation. Although happiest at the waterside, or actually growing in shallow water, plants will also perform well under average border conditions. Clumps of tall sword-like leaves are produced, bearing medium-sized flowers with bright violet-blue, ruffled petals.\n",
    "\n",
    "Flower Head Size: Medium\n",
    "Height 90-120 cm \n",
    "Spread 60-75 cm \n",
    "  \n",
    "\n"
   ]
  },
  {
   "cell_type": "markdown",
   "metadata": {},
   "source": [
    "\n"
   ]
  },
  {
   "cell_type": "code",
   "execution_count": 50,
   "metadata": {},
   "outputs": [
    {
     "data": {
      "text/html": [
       "<div>\n",
       "<style scoped>\n",
       "    .dataframe tbody tr th:only-of-type {\n",
       "        vertical-align: middle;\n",
       "    }\n",
       "\n",
       "    .dataframe tbody tr th {\n",
       "        vertical-align: top;\n",
       "    }\n",
       "\n",
       "    .dataframe thead th {\n",
       "        text-align: right;\n",
       "    }\n",
       "</style>\n",
       "<table border=\"1\" class=\"dataframe\">\n",
       "  <thead>\n",
       "    <tr style=\"text-align: right;\">\n",
       "      <th></th>\n",
       "      <th>Sepal_Length</th>\n",
       "      <th>Sepal_Width</th>\n",
       "      <th>Petal_Length</th>\n",
       "      <th>Petal_Width</th>\n",
       "      <th>Class</th>\n",
       "    </tr>\n",
       "  </thead>\n",
       "  <tbody>\n",
       "    <tr>\n",
       "      <th>0</th>\n",
       "      <td>5.1</td>\n",
       "      <td>3.5</td>\n",
       "      <td>1.4</td>\n",
       "      <td>0.2</td>\n",
       "      <td>Iris-setosa</td>\n",
       "    </tr>\n",
       "    <tr>\n",
       "      <th>1</th>\n",
       "      <td>4.9</td>\n",
       "      <td>3.0</td>\n",
       "      <td>1.4</td>\n",
       "      <td>0.2</td>\n",
       "      <td>Iris-setosa</td>\n",
       "    </tr>\n",
       "    <tr>\n",
       "      <th>2</th>\n",
       "      <td>4.7</td>\n",
       "      <td>3.2</td>\n",
       "      <td>1.3</td>\n",
       "      <td>0.2</td>\n",
       "      <td>Iris-setosa</td>\n",
       "    </tr>\n",
       "    <tr>\n",
       "      <th>3</th>\n",
       "      <td>4.6</td>\n",
       "      <td>3.1</td>\n",
       "      <td>1.5</td>\n",
       "      <td>0.2</td>\n",
       "      <td>Iris-setosa</td>\n",
       "    </tr>\n",
       "    <tr>\n",
       "      <th>4</th>\n",
       "      <td>5.0</td>\n",
       "      <td>3.6</td>\n",
       "      <td>1.4</td>\n",
       "      <td>0.2</td>\n",
       "      <td>Iris-setosa</td>\n",
       "    </tr>\n",
       "  </tbody>\n",
       "</table>\n",
       "</div>"
      ],
      "text/plain": [
       "   Sepal_Length  Sepal_Width  Petal_Length  Petal_Width        Class\n",
       "0           5.1          3.5           1.4          0.2  Iris-setosa\n",
       "1           4.9          3.0           1.4          0.2  Iris-setosa\n",
       "2           4.7          3.2           1.3          0.2  Iris-setosa\n",
       "3           4.6          3.1           1.5          0.2  Iris-setosa\n",
       "4           5.0          3.6           1.4          0.2  Iris-setosa"
      ]
     },
     "execution_count": 50,
     "metadata": {},
     "output_type": "execute_result"
    }
   ],
   "source": [
    "# select from the iris DataFrame only the rows where the Class equals the string \"Iris-setosa\"\n",
    "iris_setosa = iris[iris['Class'] == \"Iris-setosa\"]\n",
    "iris_setosa.head()"
   ]
  },
  {
   "cell_type": "code",
   "execution_count": null,
   "metadata": {},
   "outputs": [],
   "source": [
    "# Here I am subsetting the data to meet a given criteria su\n",
    "# http://pandas.pydata.org/pandas-docs/stable/user_guide/indexing.html#indexing-with-isin\n",
    "values =  {'Class': ['Iris-versicolor', 'Iris-virginica']}\n",
    "row_mask = iris.isin(values).any(1)\n",
    "iris[row_mask].head()"
   ]
  }
 ],
 "metadata": {
  "kernelspec": {
   "display_name": "Python 3",
   "language": "python",
   "name": "python3"
  },
  "language_info": {
   "codemirror_mode": {
    "name": "ipython",
    "version": 3
   },
   "file_extension": ".py",
   "mimetype": "text/x-python",
   "name": "python",
   "nbconvert_exporter": "python",
   "pygments_lexer": "ipython3",
   "version": "3.7.3"
  }
 },
 "nbformat": 4,
 "nbformat_minor": 2
}
